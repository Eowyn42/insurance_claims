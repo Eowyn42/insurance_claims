{
 "cells": [
  {
   "cell_type": "markdown",
   "metadata": {},
   "source": [
    "# Problem Statement\n",
    "\n",
    "Veterinary invoices submitted to Trupanion often contain charges for more than one pet, as many owners have multiple pets. Therefore, when adjudicating an invoice we must determine which charges on an invoice relate to the pet named on the policy the owner is making a claim under. Use the data in the files Short_Assignment_LineitemData.csv and Short_Assignment_PolicyData.csv to construct a classifier to predict whether a lineitem (charge) is for the pet named on the policy or for another pet.\n",
    "\n",
    "Note: ID numbers in Short_Assignment_LineitemData.csv correspond to those in Short_Assignment_PolicyData.csv, i.e. the owner with OwnerId = 1 in the LineItemData file is the same owner as that with OwnerId = 1 in the PolicyData file, and so on.\n",
    "\n",
    "The expected outputs are predictions for the last 2000 rows of the Short_Assignment_LineitemData.csv, where the WrongPetFlag labels are currently ‘NA’. Please include both your predictions for these lineitems and the code used in this task in your submission."
   ]
  },
  {
   "cell_type": "markdown",
   "metadata": {},
   "source": [
    "# Eowyn Baughman: Solution\n",
    "\n",
    "Note bene: boxplot_numerics() started crashing my jupyter notebook near the deadline so I have commented it out, but they are meant to be run."
   ]
  },
  {
   "cell_type": "markdown",
   "metadata": {},
   "source": [
    "# Import packages and data"
   ]
  },
  {
   "cell_type": "code",
   "execution_count": 1,
   "metadata": {},
   "outputs": [
    {
     "data": {
      "text/html": [
       "        <script type=\"text/javascript\">\n",
       "        window.PlotlyConfig = {MathJaxConfig: 'local'};\n",
       "        if (window.MathJax) {MathJax.Hub.Config({SVG: {font: \"STIX-Web\"}});}\n",
       "        if (typeof require !== 'undefined') {\n",
       "        require.undef(\"plotly\");\n",
       "        requirejs.config({\n",
       "            paths: {\n",
       "                'plotly': ['https://cdn.plot.ly/plotly-latest.min']\n",
       "            }\n",
       "        });\n",
       "        require(['plotly'], function(Plotly) {\n",
       "            window._Plotly = Plotly;\n",
       "        });\n",
       "        }\n",
       "        </script>\n",
       "        "
      ]
     },
     "metadata": {},
     "output_type": "display_data"
    }
   ],
   "source": [
    "import pandas as pd\n",
    "import numpy as np\n",
    "from nltk import edit_distance\n",
    "from sklearn.model_selection import train_test_split\n",
    "from sklearn.ensemble import RandomForestClassifier\n",
    "from sklearn.datasets import make_classification\n",
    "from sklearn.metrics import confusion_matrix,precision_recall_fscore_support\n",
    "from sklearn import ensemble\n",
    "from sklearn.linear_model import LogisticRegression, Lasso, LassoCV\n",
    "import plotly.graph_objects as go\n",
    "import plotly.express as px\n",
    "from datetime import datetime\n",
    "from sklearn.model_selection import RandomizedSearchCV, StratifiedKFold\n",
    "from pprint import pprint\n",
    "from sklearn.preprocessing import minmax_scale, MinMaxScaler\n",
    "from sklearn.ensemble import GradientBoostingClassifier\n",
    "\n",
    "# Offline mode\n",
    "from plotly.offline import init_notebook_mode, iplot\n",
    "init_notebook_mode(connected=True)"
   ]
  },
  {
   "cell_type": "code",
   "execution_count": 2,
   "metadata": {},
   "outputs": [
    {
     "data": {
      "text/html": [
       "<div>\n",
       "<style scoped>\n",
       "    .dataframe tbody tr th:only-of-type {\n",
       "        vertical-align: middle;\n",
       "    }\n",
       "\n",
       "    .dataframe tbody tr th {\n",
       "        vertical-align: top;\n",
       "    }\n",
       "\n",
       "    .dataframe thead th {\n",
       "        text-align: right;\n",
       "    }\n",
       "</style>\n",
       "<table border=\"1\" class=\"dataframe\">\n",
       "  <thead>\n",
       "    <tr style=\"text-align: right;\">\n",
       "      <th></th>\n",
       "      <th>PolicyId</th>\n",
       "      <th>OwnerId</th>\n",
       "      <th>ClaimId</th>\n",
       "      <th>LineItemId</th>\n",
       "      <th>ClaimDate</th>\n",
       "      <th>PolicyPetName</th>\n",
       "      <th>ItemDescription</th>\n",
       "      <th>WrongPetFlag</th>\n",
       "    </tr>\n",
       "  </thead>\n",
       "  <tbody>\n",
       "    <tr>\n",
       "      <th>0</th>\n",
       "      <td>0</td>\n",
       "      <td>0</td>\n",
       "      <td>0</td>\n",
       "      <td>0</td>\n",
       "      <td>2018-05-03</td>\n",
       "      <td>Justice</td>\n",
       "      <td>Justice:  Cytopoint Vaccine 60.1-70 lbs</td>\n",
       "      <td>0.0</td>\n",
       "    </tr>\n",
       "    <tr>\n",
       "      <th>1</th>\n",
       "      <td>1</td>\n",
       "      <td>1</td>\n",
       "      <td>1</td>\n",
       "      <td>1</td>\n",
       "      <td>2018-05-01</td>\n",
       "      <td>Honey</td>\n",
       "      <td>Pepper:  WHPlan CIV Vaccine &amp; Booster -15% disc</td>\n",
       "      <td>1.0</td>\n",
       "    </tr>\n",
       "    <tr>\n",
       "      <th>2</th>\n",
       "      <td>2</td>\n",
       "      <td>2</td>\n",
       "      <td>2</td>\n",
       "      <td>2</td>\n",
       "      <td>2018-12-11</td>\n",
       "      <td>Bodhi</td>\n",
       "      <td>RILEY:  Fluid Therapy Subcutaneous - LRS 300ml</td>\n",
       "      <td>1.0</td>\n",
       "    </tr>\n",
       "    <tr>\n",
       "      <th>3</th>\n",
       "      <td>3</td>\n",
       "      <td>3</td>\n",
       "      <td>3</td>\n",
       "      <td>3</td>\n",
       "      <td>2018-11-14</td>\n",
       "      <td>Gaston</td>\n",
       "      <td>Gaston:  PCV/TP ADD IHLAB</td>\n",
       "      <td>0.0</td>\n",
       "    </tr>\n",
       "    <tr>\n",
       "      <th>4</th>\n",
       "      <td>4</td>\n",
       "      <td>4</td>\n",
       "      <td>4</td>\n",
       "      <td>4</td>\n",
       "      <td>2017-04-27</td>\n",
       "      <td>Dublin</td>\n",
       "      <td>Nellie:  Fluorescein Stain.</td>\n",
       "      <td>1.0</td>\n",
       "    </tr>\n",
       "  </tbody>\n",
       "</table>\n",
       "</div>"
      ],
      "text/plain": [
       "   PolicyId  OwnerId  ClaimId  LineItemId  ClaimDate PolicyPetName  \\\n",
       "0         0        0        0           0 2018-05-03       Justice   \n",
       "1         1        1        1           1 2018-05-01         Honey   \n",
       "2         2        2        2           2 2018-12-11         Bodhi   \n",
       "3         3        3        3           3 2018-11-14        Gaston   \n",
       "4         4        4        4           4 2017-04-27        Dublin   \n",
       "\n",
       "                                   ItemDescription  WrongPetFlag  \n",
       "0          Justice:  Cytopoint Vaccine 60.1-70 lbs           0.0  \n",
       "1  Pepper:  WHPlan CIV Vaccine & Booster -15% disc           1.0  \n",
       "2   RILEY:  Fluid Therapy Subcutaneous - LRS 300ml           1.0  \n",
       "3                        Gaston:  PCV/TP ADD IHLAB           0.0  \n",
       "4                      Nellie:  Fluorescein Stain.           1.0  "
      ]
     },
     "execution_count": 2,
     "metadata": {},
     "output_type": "execute_result"
    }
   ],
   "source": [
    "lineitem = pd.read_csv('Short_Assignment_LineitemData.csv',parse_dates=['ClaimDate'])\n",
    "lineitem.head()"
   ]
  },
  {
   "cell_type": "code",
   "execution_count": 3,
   "metadata": {},
   "outputs": [
    {
     "data": {
      "text/html": [
       "<div>\n",
       "<style scoped>\n",
       "    .dataframe tbody tr th:only-of-type {\n",
       "        vertical-align: middle;\n",
       "    }\n",
       "\n",
       "    .dataframe tbody tr th {\n",
       "        vertical-align: top;\n",
       "    }\n",
       "\n",
       "    .dataframe thead th {\n",
       "        text-align: right;\n",
       "    }\n",
       "</style>\n",
       "<table border=\"1\" class=\"dataframe\">\n",
       "  <thead>\n",
       "    <tr style=\"text-align: right;\">\n",
       "      <th></th>\n",
       "      <th>PolicyPetName</th>\n",
       "      <th>EnrollDate</th>\n",
       "      <th>CancelDate</th>\n",
       "      <th>PolicyId</th>\n",
       "      <th>OwnerId</th>\n",
       "    </tr>\n",
       "  </thead>\n",
       "  <tbody>\n",
       "    <tr>\n",
       "      <th>0</th>\n",
       "      <td>Venom</td>\n",
       "      <td>2007-06-30</td>\n",
       "      <td>2013-04-04</td>\n",
       "      <td>17408</td>\n",
       "      <td>11376</td>\n",
       "    </tr>\n",
       "    <tr>\n",
       "      <th>1</th>\n",
       "      <td>Einstein cancelled policy</td>\n",
       "      <td>2007-08-13</td>\n",
       "      <td>2009-03-31</td>\n",
       "      <td>17470</td>\n",
       "      <td>3729</td>\n",
       "    </tr>\n",
       "    <tr>\n",
       "      <th>2</th>\n",
       "      <td>Roxy</td>\n",
       "      <td>2007-04-27</td>\n",
       "      <td>2014-10-09</td>\n",
       "      <td>16892</td>\n",
       "      <td>15963</td>\n",
       "    </tr>\n",
       "    <tr>\n",
       "      <th>3</th>\n",
       "      <td>Ruff</td>\n",
       "      <td>2007-12-18</td>\n",
       "      <td>2014-05-04</td>\n",
       "      <td>17648</td>\n",
       "      <td>14703</td>\n",
       "    </tr>\n",
       "    <tr>\n",
       "      <th>4</th>\n",
       "      <td>Simba</td>\n",
       "      <td>2007-06-14</td>\n",
       "      <td>2010-10-27</td>\n",
       "      <td>17729</td>\n",
       "      <td>7266</td>\n",
       "    </tr>\n",
       "  </tbody>\n",
       "</table>\n",
       "</div>"
      ],
      "text/plain": [
       "               PolicyPetName EnrollDate CancelDate  PolicyId  OwnerId\n",
       "0                      Venom 2007-06-30 2013-04-04     17408    11376\n",
       "1  Einstein cancelled policy 2007-08-13 2009-03-31     17470     3729\n",
       "2                       Roxy 2007-04-27 2014-10-09     16892    15963\n",
       "3                       Ruff 2007-12-18 2014-05-04     17648    14703\n",
       "4                      Simba 2007-06-14 2010-10-27     17729     7266"
      ]
     },
     "execution_count": 3,
     "metadata": {},
     "output_type": "execute_result"
    }
   ],
   "source": [
    "policy = pd.read_csv('Short_Assignment_PolicyData.csv', parse_dates=['EnrollDate','CancelDate'])\n",
    "policy.head()"
   ]
  },
  {
   "cell_type": "markdown",
   "metadata": {},
   "source": [
    "# Examine Data\n",
    "For each file individually, look for missing values, outliers, unexpected data types, summary statistics, especially are the values reasonable for these fields. This data was quite clean, only one missing value to handle and no apparent outliers. I clean the line item data first, and "
   ]
  },
  {
   "cell_type": "code",
   "execution_count": 4,
   "metadata": {},
   "outputs": [],
   "source": [
    "# Review data integrity\n",
    "def check_data(df):\n",
    "    print('Nulls:\\n',df.isna().sum())\n",
    "    print(df.info())\n",
    "    print(df.describe())\n",
    "    print('NullRows:\\n',df[df.isna().any(axis=1)])"
   ]
  },
  {
   "cell_type": "code",
   "execution_count": 5,
   "metadata": {},
   "outputs": [
    {
     "name": "stdout",
     "output_type": "stream",
     "text": [
      "Nulls:\n",
      " PolicyId              0\n",
      "OwnerId               0\n",
      "ClaimId               0\n",
      "LineItemId            0\n",
      "ClaimDate             0\n",
      "PolicyPetName         0\n",
      "ItemDescription       0\n",
      "WrongPetFlag       2000\n",
      "dtype: int64\n",
      "<class 'pandas.core.frame.DataFrame'>\n",
      "RangeIndex: 20000 entries, 0 to 19999\n",
      "Data columns (total 8 columns):\n",
      " #   Column           Non-Null Count  Dtype         \n",
      "---  ------           --------------  -----         \n",
      " 0   PolicyId         20000 non-null  int64         \n",
      " 1   OwnerId          20000 non-null  int64         \n",
      " 2   ClaimId          20000 non-null  int64         \n",
      " 3   LineItemId       20000 non-null  int64         \n",
      " 4   ClaimDate        20000 non-null  datetime64[ns]\n",
      " 5   PolicyPetName    20000 non-null  object        \n",
      " 6   ItemDescription  20000 non-null  object        \n",
      " 7   WrongPetFlag     18000 non-null  float64       \n",
      "dtypes: datetime64[ns](1), float64(1), int64(4), object(2)\n",
      "memory usage: 1.2+ MB\n",
      "None\n",
      "           PolicyId       OwnerId       ClaimId    LineItemId  WrongPetFlag\n",
      "count  20000.000000  20000.000000  20000.000000  20000.000000  18000.000000\n",
      "mean    8137.439250   7490.361800   9712.369750   9999.500000      0.151000\n",
      "std     4957.998788   4693.395466   5648.334647   5773.647028      0.358059\n",
      "min        0.000000      0.000000      0.000000      0.000000      0.000000\n",
      "25%     3810.750000   3361.750000   4817.750000   4999.750000      0.000000\n",
      "50%     7897.500000   7163.500000   9671.500000   9999.500000      0.000000\n",
      "75%    12371.250000  11463.250000  14599.250000  14999.250000      0.000000\n",
      "max    17179.000000  16230.000000  19565.000000  19999.000000      1.000000\n",
      "NullRows:\n",
      "        PolicyId  OwnerId  ClaimId  LineItemId  ClaimDate  \\\n",
      "18000     15650    14825    17649       18000 2020-09-02   \n",
      "18001     15651    14826    17650       18001 2016-12-17   \n",
      "18002      6349      731    17651       18002 2020-12-01   \n",
      "18003      4366     4268     4523       18003 2018-11-28   \n",
      "18004     15652    14827    17652       18004 2019-03-01   \n",
      "...         ...      ...      ...         ...        ...   \n",
      "19995     17176    16227    19562       19995 2019-01-17   \n",
      "19996     17177    16228    19563       19996 2018-09-26   \n",
      "19997     17178    16229    19564       19997 2019-04-09   \n",
      "19998     17179    16230    19565       19998 2017-06-26   \n",
      "19999     15141    14362    17004       19999 2019-09-19   \n",
      "\n",
      "                  PolicyPetName  \\\n",
      "18000                     Teddy   \n",
      "18001                      Mini   \n",
      "18002                     Basil   \n",
      "18003                     Chunk   \n",
      "18004                     Marge   \n",
      "...                         ...   \n",
      "19995                     Benny   \n",
      "19996                     Tonks   \n",
      "19997  Alfred (Alfie) Hitchcock   \n",
      "19998                   Delilah   \n",
      "19999                      Blue   \n",
      "\n",
      "                                     ItemDescription  WrongPetFlag  \n",
      "18000                      Teddy:  Daily Doctor Care           NaN  \n",
      "18001            Mini:  Feline Respiratory PCR Panel           NaN  \n",
      "18002         Blueberry:  PROIN ER 18 MG BOTTLE 30ct           NaN  \n",
      "18003               Chunk:  Histo Idexx Site 1 (601)           NaN  \n",
      "18004   Emma:  PR Diet Canine Metabolic Chicken 370g           NaN  \n",
      "...                                              ...           ...  \n",
      "19995       Benny:  RC Can GI Low Fat cse/12 #108087           NaN  \n",
      "19996  TONKS:  Tobramycin 0.3% Ophthalmic Sol'n 5 mL           NaN  \n",
      "19997           Alfred (Alfie) Hitchcock :  Sedation           NaN  \n",
      "19998         Delilah:  Subcutaneous Fluids (<250ml)           NaN  \n",
      "19999       Bebe:  Gabapentin 100mg/mL Oral Solution           NaN  \n",
      "\n",
      "[2000 rows x 8 columns]\n"
     ]
    }
   ],
   "source": [
    "check_data(lineitem)"
   ]
  },
  {
   "cell_type": "code",
   "execution_count": 6,
   "metadata": {},
   "outputs": [
    {
     "name": "stdout",
     "output_type": "stream",
     "text": [
      "Nulls:\n",
      " PolicyPetName        1\n",
      "EnrollDate           0\n",
      "CancelDate       19667\n",
      "PolicyId             0\n",
      "OwnerId              0\n",
      "dtype: int64\n",
      "<class 'pandas.core.frame.DataFrame'>\n",
      "RangeIndex: 32891 entries, 0 to 32890\n",
      "Data columns (total 5 columns):\n",
      " #   Column         Non-Null Count  Dtype         \n",
      "---  ------         --------------  -----         \n",
      " 0   PolicyPetName  32890 non-null  object        \n",
      " 1   EnrollDate     32891 non-null  datetime64[ns]\n",
      " 2   CancelDate     13224 non-null  datetime64[ns]\n",
      " 3   PolicyId       32891 non-null  int64         \n",
      " 4   OwnerId        32891 non-null  int64         \n",
      "dtypes: datetime64[ns](2), int64(2), object(1)\n",
      "memory usage: 1.3+ MB\n",
      "None\n",
      "           PolicyId       OwnerId\n",
      "count  3.289100e+04  32891.000000\n",
      "mean   5.840923e+05   7870.313034\n",
      "std    7.396070e+05   4702.896269\n",
      "min    0.000000e+00      0.000000\n",
      "25%    8.222500e+03   3789.000000\n",
      "50%    1.644500e+04   7737.000000\n",
      "75%    1.126672e+06  11948.000000\n",
      "max    2.328774e+06  16230.000000\n",
      "NullRows:\n",
      "       PolicyPetName EnrollDate CancelDate  PolicyId  OwnerId\n",
      "679             NaN 2015-08-31 2015-09-30    188089     4452\n",
      "4947           Gigi 2019-06-28        NaT    615711    10249\n",
      "4948          Louis 2017-03-20        NaT    615719    12016\n",
      "4949           Nova 2014-03-06        NaT      8385     8094\n",
      "4950        Diamond 2016-02-14        NaT    615806    11783\n",
      "...             ...        ...        ...       ...      ...\n",
      "32879        Zander 2017-02-21        NaT       797      793\n",
      "32883         Molly 2012-09-14        NaT   2328540      400\n",
      "32884          Kira 2012-09-18        NaT      8581     8282\n",
      "32888         Elvis 2012-09-24        NaT   2328774     7189\n",
      "32889        Murphy 2012-09-26        NaT     10204      827\n",
      "\n",
      "[19668 rows x 5 columns]\n"
     ]
    }
   ],
   "source": [
    "check_data(policy)"
   ]
  },
  {
   "cell_type": "code",
   "execution_count": 7,
   "metadata": {},
   "outputs": [
    {
     "name": "stdout",
     "output_type": "stream",
     "text": [
      "      PolicyPetName EnrollDate CancelDate  PolicyId  OwnerId\n",
      "668           Tilly 2015-08-14 2015-09-13    185600     4452\n",
      "679             NaN 2015-08-31 2015-09-30    188089     4452\n",
      "5347          Tilly 2016-06-05        NaT    629276     4452\n",
      "12539      Penelope 2013-03-26 2016-04-18      4561     4452\n",
      "30797         Tilly 2015-10-08 2016-04-18   2181406     4452\n",
      "Line Item:\n",
      "       PolicyId  OwnerId  ClaimId  LineItemId  ClaimDate PolicyPetName  \\\n",
      "4757      4561     4452     4731        4757 2015-11-23      Penelope   \n",
      "\n",
      "                                       ItemDescription  WrongPetFlag  \n",
      "4757  Chantilly:  Trifexis Blue 40.1 - 60# Single Dose           1.0  \n"
     ]
    }
   ],
   "source": [
    "# The missing PolicyPetName at row 679 (policy id 188089) must be handled\n",
    "print(policy[policy.OwnerId==4452])\n",
    "# This owner has two named pets, Tilly and Penelope. Both had polices active during\n",
    "# the time period with policy 188089 that covered the NaN-named pet\n",
    "print('Line Item:\\n',lineitem[lineitem.OwnerId==4452])\n",
    "# There is a claim flagged wrongly as Penelope with Penelope's PolicyId (wrong)\n",
    "# with the name Chantilly attached to the ItemDescription. \n",
    "\n",
    "# The NaN PolicyPetName can be reasonably guessed as Chantilly\n",
    "# And we see that PolicyId can be wrong in the lineitem data\n",
    "policy.loc[policy.PolicyId==188089,'PolicyPetName'] = 'Chantilly'"
   ]
  },
  {
   "cell_type": "markdown",
   "metadata": {},
   "source": [
    "# Feature Engineering\n",
    "These data are rather limited -- we only have information about dates, IDs, names, and the vet's office description of the service, which thankfully also has a name attached. The useful features we can extract are:\n",
    "* related to the names, and the degree to which they match one another\n",
    "* related to seasonality (month, year)\n",
    "* related to the policy, such as duration and whether it is still active\n",
    "\n",
    "Once we have these features created, we will select the best ones to use in our classifier."
   ]
  },
  {
   "cell_type": "markdown",
   "metadata": {},
   "source": [
    "## Add features to Policy data"
   ]
  },
  {
   "cell_type": "code",
   "execution_count": 8,
   "metadata": {},
   "outputs": [
    {
     "data": {
      "text/plain": [
       "PolicyPetName                   Gigi\n",
       "EnrollDate       2019-06-28 00:00:00\n",
       "CancelDate       2022-03-28 00:00:00\n",
       "PolicyId                      615711\n",
       "OwnerId                        10249\n",
       "Active                             1\n",
       "DurationDays                    1004\n",
       "EnrollMonth                        6\n",
       "EnrollYear                      2019\n",
       "Name: 4947, dtype: object"
      ]
     },
     "execution_count": 8,
     "metadata": {},
     "output_type": "execute_result"
    }
   ],
   "source": [
    "# We are told that missing CancelDates represent active policies\n",
    "# Create a binary Active to indicate whether policy is active or not\n",
    "policy[['Active']] = policy[['CancelDate']].isnull().astype(int)\n",
    "# Also create duration of policy column, using today as end date on active policies\n",
    "policy['CancelDate'].fillna(pd.Timestamp(\"20220328\"), inplace=True)\n",
    "policy['DurationDays'] = (policy['CancelDate']-policy['EnrollDate']).dt.days\n",
    "# Extract month and year from enrollment date (available for all rows)\n",
    "policy['EnrollMonth'] = policy.EnrollDate.dt.month\n",
    "policy['EnrollYear'] = policy.EnrollDate.dt.year\n",
    "# Check out one entry as sanity check\n",
    "policy.iloc[4947]"
   ]
  },
  {
   "cell_type": "code",
   "execution_count": 9,
   "metadata": {},
   "outputs": [
    {
     "data": {
      "text/plain": [
       "PolicyPetName                   Tina\n",
       "EnrollDate       2018-10-15 00:00:00\n",
       "CancelDate       2018-11-01 00:00:00\n",
       "PolicyId                      318688\n",
       "OwnerId                         9734\n",
       "Active                             0\n",
       "DurationDays                     -17\n",
       "EnrollMonth                       11\n",
       "EnrollYear                      2018\n",
       "Name: 1642, dtype: object"
      ]
     },
     "execution_count": 9,
     "metadata": {},
     "output_type": "execute_result"
    }
   ],
   "source": [
    "# Check the data again. There are policies where DurationDays < 0 which appears to be\n",
    "# because the EnrollDate and CancelDate are swapped. No active policies here.\n",
    "# Unswap then recompute DurationDays,Enroll Yr/Month\n",
    "#check_data(policy)\n",
    "policy[policy['DurationDays']<0] # eg row 1642\n",
    "m = policy['DurationDays']<0\n",
    "mp = {'EnrollDate': 'CancelDate', 'CancelDate': 'EnrollDate'}\n",
    "policy.update(policy.loc[m].rename(mp, axis=1))\n",
    "\n",
    "policy.iloc[1642]"
   ]
  },
  {
   "cell_type": "code",
   "execution_count": 10,
   "metadata": {},
   "outputs": [
    {
     "data": {
      "text/plain": [
       "PolicyPetName                   Tina\n",
       "EnrollDate       2018-10-15 00:00:00\n",
       "CancelDate       2018-11-01 00:00:00\n",
       "PolicyId                      318688\n",
       "OwnerId                         9734\n",
       "Active                             0\n",
       "DurationDays                      17\n",
       "EnrollMonth                       10\n",
       "EnrollYear                      2018\n",
       "Name: 1642, dtype: object"
      ]
     },
     "execution_count": 10,
     "metadata": {},
     "output_type": "execute_result"
    }
   ],
   "source": [
    "# Recompute DurationDays, Enroll month and year\n",
    "policy['DurationDays'] = (policy['CancelDate']-policy['EnrollDate']).dt.days\n",
    "policy['EnrollMonth'] = policy.EnrollDate.dt.month\n",
    "policy['EnrollYear'] = policy.EnrollDate.dt.year\n",
    "policy.iloc[1642]"
   ]
  },
  {
   "cell_type": "code",
   "execution_count": 11,
   "metadata": {},
   "outputs": [
    {
     "name": "stdout",
     "output_type": "stream",
     "text": [
      "Nulls:\n",
      " PolicyPetName    0\n",
      "EnrollDate       0\n",
      "CancelDate       0\n",
      "PolicyId         0\n",
      "OwnerId          0\n",
      "Active           0\n",
      "DurationDays     0\n",
      "EnrollMonth      0\n",
      "EnrollYear       0\n",
      "dtype: int64\n",
      "<class 'pandas.core.frame.DataFrame'>\n",
      "RangeIndex: 32891 entries, 0 to 32890\n",
      "Data columns (total 9 columns):\n",
      " #   Column         Non-Null Count  Dtype         \n",
      "---  ------         --------------  -----         \n",
      " 0   PolicyPetName  32891 non-null  object        \n",
      " 1   EnrollDate     32891 non-null  datetime64[ns]\n",
      " 2   CancelDate     32891 non-null  datetime64[ns]\n",
      " 3   PolicyId       32891 non-null  float64       \n",
      " 4   OwnerId        32891 non-null  float64       \n",
      " 5   Active         32891 non-null  float64       \n",
      " 6   DurationDays   32891 non-null  int64         \n",
      " 7   EnrollMonth    32891 non-null  int64         \n",
      " 8   EnrollYear     32891 non-null  int64         \n",
      "dtypes: datetime64[ns](2), float64(3), int64(3), object(1)\n",
      "memory usage: 2.3+ MB\n",
      "None\n",
      "           PolicyId       OwnerId        Active  DurationDays   EnrollMonth  \\\n",
      "count  3.289100e+04  32891.000000  32891.000000  32891.000000  32891.000000   \n",
      "mean   5.840923e+05   7870.313034      0.597945   1704.334712      6.469095   \n",
      "std    7.396070e+05   4702.896269      0.490320   1239.601992      3.440195   \n",
      "min    0.000000e+00      0.000000      0.000000      0.000000      1.000000   \n",
      "25%    8.222500e+03   3789.000000      0.000000    688.000000      3.000000   \n",
      "50%    1.644500e+04   7737.000000      1.000000   1534.000000      7.000000   \n",
      "75%    1.126672e+06  11948.000000      1.000000   2566.500000      9.000000   \n",
      "max    2.328774e+06  16230.000000      1.000000   6644.000000     12.000000   \n",
      "\n",
      "         EnrollYear  \n",
      "count  32891.000000  \n",
      "mean    2015.657688  \n",
      "std        3.443135  \n",
      "min     2001.000000  \n",
      "25%     2013.000000  \n",
      "50%     2016.000000  \n",
      "75%     2018.000000  \n",
      "max     2022.000000  \n",
      "NullRows:\n",
      " Empty DataFrame\n",
      "Columns: [PolicyPetName, EnrollDate, CancelDate, PolicyId, OwnerId, Active, DurationDays, EnrollMonth, EnrollYear]\n",
      "Index: []\n"
     ]
    }
   ],
   "source": [
    "check_data(policy) # No more nulls or invalid values"
   ]
  },
  {
   "cell_type": "markdown",
   "metadata": {},
   "source": [
    "Check out the distributions, as a fast way to confirm that we don't need to handle outliers. Plotly lets you zoom in so one plot is sufficient for all the variables regardless of scale. Note that we need to check for outliers before scaling the dataset or else the outliers will skew the scaling. "
   ]
  },
  {
   "cell_type": "code",
   "execution_count": 12,
   "metadata": {},
   "outputs": [],
   "source": [
    "def boxplot_numerics(df):\n",
    "    # Horizontal box plots to show outliers, quartiles of distribution of numeric variables\n",
    "    numerics = ['int16', 'int32', 'int64', 'float16', 'float32', 'float64']\n",
    "    numdf = df.select_dtypes(include=numerics)\n",
    "\n",
    "    fig = go.Figure()\n",
    "    for col in numdf.columns:\n",
    "        for col in numdf.columns:\n",
    "            if col in (['PolicyId','OwnerId','LineItemId','ClaimId']):\n",
    "                continue\n",
    "            fig.add_trace(go.Box(x=numdf[col], name=col))\n",
    "            fig.add_trace(go.Box(x=numdf[col], name=col))\n",
    "\n",
    "    fig.update_layout(\n",
    "        title=\"Box Plots, non-ID numeric columns\",\n",
    "        xaxis_title=\"Value\",\n",
    "        yaxis_title=\"Variable\",\n",
    "        showlegend=False)   \n",
    "    fig.show()\n",
    "\n",
    "#boxplot_numerics(policy) # The moderately high duration values are numerous and likely valid "
   ]
  },
  {
   "cell_type": "markdown",
   "metadata": {},
   "source": [
    "## Add features to Line Item data\n",
    "Clean up the strings so they can be compared. Then create features for if the names are the same (exact match), or if one is contained fully within another, the edit distance between two names (how many letter swaps needed to get exact match), and the edit distance normalized by either policy name or line item name. These features will be co-linear and we'll be selecting the best set next. \n",
    "\n",
    "The features also provide more opportunities to sanity check the data and iterate. Because the line item names are essentially free form (the vet or vet tech could write down anything) there are bound to be many edge cases. From my experience working on search terms, I know that rooting out all the edge cases takes more time than I have for this project, so I'm deliberately sticking with simply stripping white space and taking the lowercase. "
   ]
  },
  {
   "cell_type": "code",
   "execution_count": 13,
   "metadata": {},
   "outputs": [],
   "source": [
    "# Add features to lineitem\n",
    "\n",
    "# Extract pet name from item description to create ItemPetname\n",
    "# use regular expression to match anything non-colon at the beginning followed by colon\n",
    "lineitem['ItemPetName'] =  lineitem['ItemDescription'].str.extract(r\"([^:]*):\")\n",
    "# Lowercase, remove whitespace & any spaces, remove any punctuation\n",
    "lineitem['ItemPetName'] = lineitem['ItemPetName'].str.lower().str.strip()\n",
    "# Lowercase, remove whitespace & any spaces, remove any punctuation\n",
    "lineitem['PolicyPetName'] = lineitem['PolicyPetName'].str.lower().str.strip()\n",
    "# Add column for where item and policy pet names are exact matches\n",
    "lineitem['same_name'] = (lineitem['PolicyPetName'] == lineitem['ItemPetName']).astype('int')"
   ]
  },
  {
   "cell_type": "code",
   "execution_count": 14,
   "metadata": {},
   "outputs": [
    {
     "data": {
      "text/html": [
       "<div>\n",
       "<style scoped>\n",
       "    .dataframe tbody tr th:only-of-type {\n",
       "        vertical-align: middle;\n",
       "    }\n",
       "\n",
       "    .dataframe tbody tr th {\n",
       "        vertical-align: top;\n",
       "    }\n",
       "\n",
       "    .dataframe thead th {\n",
       "        text-align: right;\n",
       "    }\n",
       "</style>\n",
       "<table border=\"1\" class=\"dataframe\">\n",
       "  <thead>\n",
       "    <tr style=\"text-align: right;\">\n",
       "      <th></th>\n",
       "      <th>PolicyId</th>\n",
       "      <th>OwnerId</th>\n",
       "      <th>ClaimId</th>\n",
       "      <th>LineItemId</th>\n",
       "      <th>ClaimDate</th>\n",
       "      <th>PolicyPetName</th>\n",
       "      <th>ItemDescription</th>\n",
       "      <th>WrongPetFlag</th>\n",
       "      <th>ItemPetName</th>\n",
       "      <th>same_name</th>\n",
       "    </tr>\n",
       "  </thead>\n",
       "  <tbody>\n",
       "    <tr>\n",
       "      <th>169</th>\n",
       "      <td>169</td>\n",
       "      <td>169</td>\n",
       "      <td>169</td>\n",
       "      <td>169</td>\n",
       "      <td>2016-10-20</td>\n",
       "      <td>pyro</td>\n",
       "      <td>Pyro:  Gabapentin 300mg capsules</td>\n",
       "      <td>1.0</td>\n",
       "      <td>pyro</td>\n",
       "      <td>1</td>\n",
       "    </tr>\n",
       "    <tr>\n",
       "      <th>402</th>\n",
       "      <td>400</td>\n",
       "      <td>398</td>\n",
       "      <td>401</td>\n",
       "      <td>402</td>\n",
       "      <td>2018-07-09</td>\n",
       "      <td>rex</td>\n",
       "      <td>Rex:  Complete Blood Count</td>\n",
       "      <td>1.0</td>\n",
       "      <td>rex</td>\n",
       "      <td>1</td>\n",
       "    </tr>\n",
       "    <tr>\n",
       "      <th>443</th>\n",
       "      <td>440</td>\n",
       "      <td>438</td>\n",
       "      <td>442</td>\n",
       "      <td>443</td>\n",
       "      <td>2021-03-31</td>\n",
       "      <td>ivy</td>\n",
       "      <td>Ivy:  Caesarean Newborn Care</td>\n",
       "      <td>1.0</td>\n",
       "      <td>ivy</td>\n",
       "      <td>1</td>\n",
       "    </tr>\n",
       "    <tr>\n",
       "      <th>463</th>\n",
       "      <td>460</td>\n",
       "      <td>458</td>\n",
       "      <td>462</td>\n",
       "      <td>463</td>\n",
       "      <td>2019-09-10</td>\n",
       "      <td>tucker</td>\n",
       "      <td>Tucker:  xU*rinalysis</td>\n",
       "      <td>1.0</td>\n",
       "      <td>tucker</td>\n",
       "      <td>1</td>\n",
       "    </tr>\n",
       "    <tr>\n",
       "      <th>672</th>\n",
       "      <td>667</td>\n",
       "      <td>664</td>\n",
       "      <td>671</td>\n",
       "      <td>672</td>\n",
       "      <td>2020-10-22</td>\n",
       "      <td>scooter</td>\n",
       "      <td>Scooter:  Hills k/d Kidney K9 Chicken Stew 12.5oz</td>\n",
       "      <td>1.0</td>\n",
       "      <td>scooter</td>\n",
       "      <td>1</td>\n",
       "    </tr>\n",
       "    <tr>\n",
       "      <th>857</th>\n",
       "      <td>847</td>\n",
       "      <td>841</td>\n",
       "      <td>854</td>\n",
       "      <td>857</td>\n",
       "      <td>2015-04-30</td>\n",
       "      <td>gybsen</td>\n",
       "      <td>Gybsen:  Kong Shakerz - Caterpillar</td>\n",
       "      <td>1.0</td>\n",
       "      <td>gybsen</td>\n",
       "      <td>1</td>\n",
       "    </tr>\n",
       "    <tr>\n",
       "      <th>1226</th>\n",
       "      <td>1212</td>\n",
       "      <td>1199</td>\n",
       "      <td>1222</td>\n",
       "      <td>1226</td>\n",
       "      <td>2018-05-30</td>\n",
       "      <td>whirlwind</td>\n",
       "      <td>Whirlwind:  Fortiflora Feline 30ct Box</td>\n",
       "      <td>1.0</td>\n",
       "      <td>whirlwind</td>\n",
       "      <td>1</td>\n",
       "    </tr>\n",
       "    <tr>\n",
       "      <th>1789</th>\n",
       "      <td>1762</td>\n",
       "      <td>1741</td>\n",
       "      <td>1784</td>\n",
       "      <td>1789</td>\n",
       "      <td>2020-01-30</td>\n",
       "      <td>chloe</td>\n",
       "      <td>Chloe:  Regulated Medical Waste Disposal Fee</td>\n",
       "      <td>1.0</td>\n",
       "      <td>chloe</td>\n",
       "      <td>1</td>\n",
       "    </tr>\n",
       "    <tr>\n",
       "      <th>2096</th>\n",
       "      <td>2057</td>\n",
       "      <td>2030</td>\n",
       "      <td>2089</td>\n",
       "      <td>2096</td>\n",
       "      <td>2021-06-14</td>\n",
       "      <td>rocco</td>\n",
       "      <td>Rocco:  Solliquin Soft Chews 8-30lbs</td>\n",
       "      <td>1.0</td>\n",
       "      <td>rocco</td>\n",
       "      <td>1</td>\n",
       "    </tr>\n",
       "    <tr>\n",
       "      <th>2884</th>\n",
       "      <td>2807</td>\n",
       "      <td>2757</td>\n",
       "      <td>2870</td>\n",
       "      <td>2884</td>\n",
       "      <td>2020-04-18</td>\n",
       "      <td>remsen</td>\n",
       "      <td>REMSEN:  Subcut Fluid  ( 150 ml or less)</td>\n",
       "      <td>1.0</td>\n",
       "      <td>remsen</td>\n",
       "      <td>1</td>\n",
       "    </tr>\n",
       "    <tr>\n",
       "      <th>3048</th>\n",
       "      <td>2961</td>\n",
       "      <td>2911</td>\n",
       "      <td>3032</td>\n",
       "      <td>3048</td>\n",
       "      <td>2020-10-15</td>\n",
       "      <td>audrey</td>\n",
       "      <td>Audrey:  Misc - Medication TGH - Estimate only</td>\n",
       "      <td>1.0</td>\n",
       "      <td>audrey</td>\n",
       "      <td>1</td>\n",
       "    </tr>\n",
       "    <tr>\n",
       "      <th>3377</th>\n",
       "      <td>3272</td>\n",
       "      <td>3212</td>\n",
       "      <td>3358</td>\n",
       "      <td>3377</td>\n",
       "      <td>2018-12-01</td>\n",
       "      <td>talisker</td>\n",
       "      <td>Talisker:  Injection for intestinal irrit</td>\n",
       "      <td>1.0</td>\n",
       "      <td>talisker</td>\n",
       "      <td>1</td>\n",
       "    </tr>\n",
       "    <tr>\n",
       "      <th>3755</th>\n",
       "      <td>3628</td>\n",
       "      <td>3555</td>\n",
       "      <td>3735</td>\n",
       "      <td>3755</td>\n",
       "      <td>2019-09-17</td>\n",
       "      <td>tigger</td>\n",
       "      <td>TIGGER :  Cerenia Injection</td>\n",
       "      <td>1.0</td>\n",
       "      <td>tigger</td>\n",
       "      <td>1</td>\n",
       "    </tr>\n",
       "    <tr>\n",
       "      <th>4043</th>\n",
       "      <td>3902</td>\n",
       "      <td>3818</td>\n",
       "      <td>4023</td>\n",
       "      <td>4043</td>\n",
       "      <td>2020-09-24</td>\n",
       "      <td>roxy</td>\n",
       "      <td>Roxy:  Medical Progress Exam 1</td>\n",
       "      <td>1.0</td>\n",
       "      <td>roxy</td>\n",
       "      <td>1</td>\n",
       "    </tr>\n",
       "    <tr>\n",
       "      <th>5187</th>\n",
       "      <td>1101</td>\n",
       "      <td>320</td>\n",
       "      <td>5156</td>\n",
       "      <td>5187</td>\n",
       "      <td>2018-06-25</td>\n",
       "      <td>keely</td>\n",
       "      <td>Keely:  Acupuncture tx</td>\n",
       "      <td>1.0</td>\n",
       "      <td>keely</td>\n",
       "      <td>1</td>\n",
       "    </tr>\n",
       "    <tr>\n",
       "      <th>5432</th>\n",
       "      <td>5176</td>\n",
       "      <td>5050</td>\n",
       "      <td>5398</td>\n",
       "      <td>5432</td>\n",
       "      <td>2019-08-20</td>\n",
       "      <td>greyson</td>\n",
       "      <td>Greyson:  Fecal-Ova &amp; Parasites/Giardia</td>\n",
       "      <td>1.0</td>\n",
       "      <td>greyson</td>\n",
       "      <td>1</td>\n",
       "    </tr>\n",
       "    <tr>\n",
       "      <th>5536</th>\n",
       "      <td>3010</td>\n",
       "      <td>320</td>\n",
       "      <td>5500</td>\n",
       "      <td>5536</td>\n",
       "      <td>2018-11-20</td>\n",
       "      <td>molly</td>\n",
       "      <td>Molly:  Low Level Laser Therapy 3B - Add'nal</td>\n",
       "      <td>1.0</td>\n",
       "      <td>molly</td>\n",
       "      <td>1</td>\n",
       "    </tr>\n",
       "    <tr>\n",
       "      <th>5830</th>\n",
       "      <td>3536</td>\n",
       "      <td>3466</td>\n",
       "      <td>5790</td>\n",
       "      <td>5830</td>\n",
       "      <td>2016-10-18</td>\n",
       "      <td>sammy</td>\n",
       "      <td>Sammy:  Heartworm Test</td>\n",
       "      <td>1.0</td>\n",
       "      <td>sammy</td>\n",
       "      <td>1</td>\n",
       "    </tr>\n",
       "    <tr>\n",
       "      <th>6114</th>\n",
       "      <td>915</td>\n",
       "      <td>906</td>\n",
       "      <td>6067</td>\n",
       "      <td>6114</td>\n",
       "      <td>2019-04-04</td>\n",
       "      <td>georgie</td>\n",
       "      <td>Georgie:  Prednisone 5mg, per Tablet</td>\n",
       "      <td>1.0</td>\n",
       "      <td>georgie</td>\n",
       "      <td>1</td>\n",
       "    </tr>\n",
       "    <tr>\n",
       "      <th>6839</th>\n",
       "      <td>6445</td>\n",
       "      <td>6254</td>\n",
       "      <td>6784</td>\n",
       "      <td>6839</td>\n",
       "      <td>2019-03-01</td>\n",
       "      <td>tonka</td>\n",
       "      <td>Tonka:  HA 7+ Canine  4lb (2571)</td>\n",
       "      <td>1.0</td>\n",
       "      <td>tonka</td>\n",
       "      <td>1</td>\n",
       "    </tr>\n",
       "    <tr>\n",
       "      <th>7148</th>\n",
       "      <td>6715</td>\n",
       "      <td>6510</td>\n",
       "      <td>7089</td>\n",
       "      <td>7148</td>\n",
       "      <td>2019-06-19</td>\n",
       "      <td>pablo</td>\n",
       "      <td>Pablo:  Dog Trainer - Reactive Dog Class</td>\n",
       "      <td>1.0</td>\n",
       "      <td>pablo</td>\n",
       "      <td>1</td>\n",
       "    </tr>\n",
       "    <tr>\n",
       "      <th>7357</th>\n",
       "      <td>5906</td>\n",
       "      <td>5743</td>\n",
       "      <td>7296</td>\n",
       "      <td>7357</td>\n",
       "      <td>2018-12-03</td>\n",
       "      <td>george</td>\n",
       "      <td>George:  NYS Mandated- Medical Waste Disposal Fee</td>\n",
       "      <td>1.0</td>\n",
       "      <td>george</td>\n",
       "      <td>1</td>\n",
       "    </tr>\n",
       "    <tr>\n",
       "      <th>7420</th>\n",
       "      <td>6955</td>\n",
       "      <td>6745</td>\n",
       "      <td>7358</td>\n",
       "      <td>7420</td>\n",
       "      <td>2020-09-08</td>\n",
       "      <td>dolly</td>\n",
       "      <td>Dolly:  Rabies Vaccination, 1 Year</td>\n",
       "      <td>1.0</td>\n",
       "      <td>dolly</td>\n",
       "      <td>1</td>\n",
       "    </tr>\n",
       "    <tr>\n",
       "      <th>8032</th>\n",
       "      <td>7493</td>\n",
       "      <td>7244</td>\n",
       "      <td>7963</td>\n",
       "      <td>8032</td>\n",
       "      <td>2019-02-15</td>\n",
       "      <td>thor</td>\n",
       "      <td>Thor:  Thor MR7473 - 1cc Slip Tip x 10 Syringes</td>\n",
       "      <td>1.0</td>\n",
       "      <td>thor</td>\n",
       "      <td>1</td>\n",
       "    </tr>\n",
       "    <tr>\n",
       "      <th>8055</th>\n",
       "      <td>7512</td>\n",
       "      <td>7262</td>\n",
       "      <td>7986</td>\n",
       "      <td>8055</td>\n",
       "      <td>2018-04-28</td>\n",
       "      <td>jade</td>\n",
       "      <td>Jade:  Distemper - Canine - 3 Year</td>\n",
       "      <td>1.0</td>\n",
       "      <td>jade</td>\n",
       "      <td>1</td>\n",
       "    </tr>\n",
       "    <tr>\n",
       "      <th>8111</th>\n",
       "      <td>7560</td>\n",
       "      <td>7306</td>\n",
       "      <td>8041</td>\n",
       "      <td>8111</td>\n",
       "      <td>2018-11-26</td>\n",
       "      <td>suki</td>\n",
       "      <td>Suki:  PREPAID Fecal Dx? Profile with Giardia</td>\n",
       "      <td>1.0</td>\n",
       "      <td>suki</td>\n",
       "      <td>1</td>\n",
       "    </tr>\n",
       "    <tr>\n",
       "      <th>8447</th>\n",
       "      <td>7854</td>\n",
       "      <td>7588</td>\n",
       "      <td>8371</td>\n",
       "      <td>8447</td>\n",
       "      <td>2016-06-18</td>\n",
       "      <td>joe</td>\n",
       "      <td>Joe:  Exam-Comprehensive</td>\n",
       "      <td>1.0</td>\n",
       "      <td>joe</td>\n",
       "      <td>1</td>\n",
       "    </tr>\n",
       "    <tr>\n",
       "      <th>8834</th>\n",
       "      <td>8193</td>\n",
       "      <td>7909</td>\n",
       "      <td>8749</td>\n",
       "      <td>8834</td>\n",
       "      <td>2018-05-23</td>\n",
       "      <td>gotti</td>\n",
       "      <td>Gotti:  DHPP - 3 wk (given w/Lepto)</td>\n",
       "      <td>1.0</td>\n",
       "      <td>gotti</td>\n",
       "      <td>1</td>\n",
       "    </tr>\n",
       "    <tr>\n",
       "      <th>9270</th>\n",
       "      <td>8574</td>\n",
       "      <td>8275</td>\n",
       "      <td>9181</td>\n",
       "      <td>9270</td>\n",
       "      <td>2017-08-30</td>\n",
       "      <td>brendal</td>\n",
       "      <td>Brendal:  Radiograph, Digital (2 views)</td>\n",
       "      <td>1.0</td>\n",
       "      <td>brendal</td>\n",
       "      <td>1</td>\n",
       "    </tr>\n",
       "    <tr>\n",
       "      <th>10223</th>\n",
       "      <td>9409</td>\n",
       "      <td>9060</td>\n",
       "      <td>10113</td>\n",
       "      <td>10223</td>\n",
       "      <td>2019-12-16</td>\n",
       "      <td>simon</td>\n",
       "      <td>Simon:  Rayne Fel Kangaroo Maintenance Can</td>\n",
       "      <td>1.0</td>\n",
       "      <td>simon</td>\n",
       "      <td>1</td>\n",
       "    </tr>\n",
       "    <tr>\n",
       "      <th>10244</th>\n",
       "      <td>9426</td>\n",
       "      <td>9077</td>\n",
       "      <td>10133</td>\n",
       "      <td>10244</td>\n",
       "      <td>2021-03-17</td>\n",
       "      <td>vera</td>\n",
       "      <td>Vera:  Covid-19 PPE Surcharge</td>\n",
       "      <td>1.0</td>\n",
       "      <td>vera</td>\n",
       "      <td>1</td>\n",
       "    </tr>\n",
       "    <tr>\n",
       "      <th>10305</th>\n",
       "      <td>9480</td>\n",
       "      <td>9126</td>\n",
       "      <td>10193</td>\n",
       "      <td>10305</td>\n",
       "      <td>2016-04-06</td>\n",
       "      <td>simon</td>\n",
       "      <td>Simon:  Ear Cleaning Level 1</td>\n",
       "      <td>1.0</td>\n",
       "      <td>simon</td>\n",
       "      <td>1</td>\n",
       "    </tr>\n",
       "    <tr>\n",
       "      <th>13032</th>\n",
       "      <td>11749</td>\n",
       "      <td>3903</td>\n",
       "      <td>12846</td>\n",
       "      <td>13032</td>\n",
       "      <td>2016-10-25</td>\n",
       "      <td>nip</td>\n",
       "      <td>Nip:  EXAMINATION</td>\n",
       "      <td>1.0</td>\n",
       "      <td>nip</td>\n",
       "      <td>1</td>\n",
       "    </tr>\n",
       "    <tr>\n",
       "      <th>13154</th>\n",
       "      <td>11844</td>\n",
       "      <td>11306</td>\n",
       "      <td>12961</td>\n",
       "      <td>13154</td>\n",
       "      <td>2021-08-10</td>\n",
       "      <td>daphne</td>\n",
       "      <td>Daphne:  Medical Waste - Outpatient</td>\n",
       "      <td>1.0</td>\n",
       "      <td>daphne</td>\n",
       "      <td>1</td>\n",
       "    </tr>\n",
       "    <tr>\n",
       "      <th>13229</th>\n",
       "      <td>315</td>\n",
       "      <td>313</td>\n",
       "      <td>13034</td>\n",
       "      <td>13229</td>\n",
       "      <td>2018-08-27</td>\n",
       "      <td>auggie</td>\n",
       "      <td>Auggie:  ANESTHESIA INCLUDED (1ST HR)</td>\n",
       "      <td>1.0</td>\n",
       "      <td>auggie</td>\n",
       "      <td>1</td>\n",
       "    </tr>\n",
       "    <tr>\n",
       "      <th>13985</th>\n",
       "      <td>12526</td>\n",
       "      <td>11943</td>\n",
       "      <td>13772</td>\n",
       "      <td>13985</td>\n",
       "      <td>2019-02-07</td>\n",
       "      <td>minnie</td>\n",
       "      <td>Minnie:  Acupuncture</td>\n",
       "      <td>1.0</td>\n",
       "      <td>minnie</td>\n",
       "      <td>1</td>\n",
       "    </tr>\n",
       "    <tr>\n",
       "      <th>14072</th>\n",
       "      <td>12595</td>\n",
       "      <td>12006</td>\n",
       "      <td>13857</td>\n",
       "      <td>14072</td>\n",
       "      <td>2020-08-06</td>\n",
       "      <td>teddy</td>\n",
       "      <td>Teddy:  Fine Needle Aspirate(s) (FNA)</td>\n",
       "      <td>1.0</td>\n",
       "      <td>teddy</td>\n",
       "      <td>1</td>\n",
       "    </tr>\n",
       "    <tr>\n",
       "      <th>15394</th>\n",
       "      <td>1300</td>\n",
       "      <td>1286</td>\n",
       "      <td>15136</td>\n",
       "      <td>15394</td>\n",
       "      <td>2019-05-21</td>\n",
       "      <td>hugo</td>\n",
       "      <td>Hugo:  Skin/Ear Cyto or Scrape (2-3 test tech.)</td>\n",
       "      <td>1.0</td>\n",
       "      <td>hugo</td>\n",
       "      <td>1</td>\n",
       "    </tr>\n",
       "    <tr>\n",
       "      <th>15570</th>\n",
       "      <td>6359</td>\n",
       "      <td>6174</td>\n",
       "      <td>15306</td>\n",
       "      <td>15570</td>\n",
       "      <td>2020-06-25</td>\n",
       "      <td>meme</td>\n",
       "      <td>MeMe:  Total Health Plus Profile</td>\n",
       "      <td>1.0</td>\n",
       "      <td>meme</td>\n",
       "      <td>1</td>\n",
       "    </tr>\n",
       "    <tr>\n",
       "      <th>15925</th>\n",
       "      <td>14055</td>\n",
       "      <td>13360</td>\n",
       "      <td>15649</td>\n",
       "      <td>15925</td>\n",
       "      <td>2018-06-02</td>\n",
       "      <td>bailey</td>\n",
       "      <td>Bailey:  Cook County Fee For Rabies Tag (3 year)</td>\n",
       "      <td>1.0</td>\n",
       "      <td>bailey</td>\n",
       "      <td>1</td>\n",
       "    </tr>\n",
       "    <tr>\n",
       "      <th>16101</th>\n",
       "      <td>14189</td>\n",
       "      <td>13480</td>\n",
       "      <td>15816</td>\n",
       "      <td>16101</td>\n",
       "      <td>2017-09-20</td>\n",
       "      <td>maddie</td>\n",
       "      <td>Maddie:  Cytopoint 40mg</td>\n",
       "      <td>1.0</td>\n",
       "      <td>maddie</td>\n",
       "      <td>1</td>\n",
       "    </tr>\n",
       "    <tr>\n",
       "      <th>16447</th>\n",
       "      <td>5927</td>\n",
       "      <td>584</td>\n",
       "      <td>14681</td>\n",
       "      <td>16447</td>\n",
       "      <td>2018-06-30</td>\n",
       "      <td>diesel</td>\n",
       "      <td>DIESEL:  ANTINOL 50mg CAPS --BOX OF 30</td>\n",
       "      <td>1.0</td>\n",
       "      <td>diesel</td>\n",
       "      <td>1</td>\n",
       "    </tr>\n",
       "    <tr>\n",
       "      <th>16656</th>\n",
       "      <td>14622</td>\n",
       "      <td>13883</td>\n",
       "      <td>16354</td>\n",
       "      <td>16656</td>\n",
       "      <td>2017-08-12</td>\n",
       "      <td>priya</td>\n",
       "      <td>Priya:  HARNESS RC CIRQUE - BLACK - M</td>\n",
       "      <td>1.0</td>\n",
       "      <td>priya</td>\n",
       "      <td>1</td>\n",
       "    </tr>\n",
       "    <tr>\n",
       "      <th>17082</th>\n",
       "      <td>6142</td>\n",
       "      <td>2062</td>\n",
       "      <td>16755</td>\n",
       "      <td>17082</td>\n",
       "      <td>2014-01-11</td>\n",
       "      <td>kimber</td>\n",
       "      <td>Kimber:  Rayne Rx Treat - Apple &amp; Pumpkin (300g)</td>\n",
       "      <td>1.0</td>\n",
       "      <td>kimber</td>\n",
       "      <td>1</td>\n",
       "    </tr>\n",
       "    <tr>\n",
       "      <th>17120</th>\n",
       "      <td>14970</td>\n",
       "      <td>14203</td>\n",
       "      <td>16792</td>\n",
       "      <td>17120</td>\n",
       "      <td>2020-08-25</td>\n",
       "      <td>kensie</td>\n",
       "      <td>Kensie:  Optix Care Eye Cleaning Wipes</td>\n",
       "      <td>1.0</td>\n",
       "      <td>kensie</td>\n",
       "      <td>1</td>\n",
       "    </tr>\n",
       "    <tr>\n",
       "      <th>17338</th>\n",
       "      <td>15143</td>\n",
       "      <td>14364</td>\n",
       "      <td>17007</td>\n",
       "      <td>17338</td>\n",
       "      <td>2020-11-17</td>\n",
       "      <td>mazel</td>\n",
       "      <td>Mazel:  Bupivacaine Local Anesthesia</td>\n",
       "      <td>1.0</td>\n",
       "      <td>mazel</td>\n",
       "      <td>1</td>\n",
       "    </tr>\n",
       "    <tr>\n",
       "      <th>17399</th>\n",
       "      <td>15186</td>\n",
       "      <td>11601</td>\n",
       "      <td>17063</td>\n",
       "      <td>17399</td>\n",
       "      <td>2020-01-31</td>\n",
       "      <td>vinnie</td>\n",
       "      <td>Vinnie:  Dispensing fee</td>\n",
       "      <td>1.0</td>\n",
       "      <td>vinnie</td>\n",
       "      <td>1</td>\n",
       "    </tr>\n",
       "    <tr>\n",
       "      <th>17656</th>\n",
       "      <td>15387</td>\n",
       "      <td>14581</td>\n",
       "      <td>17315</td>\n",
       "      <td>17656</td>\n",
       "      <td>2017-10-09</td>\n",
       "      <td>molly</td>\n",
       "      <td>Molly:  Office Visit - Brief</td>\n",
       "      <td>1.0</td>\n",
       "      <td>molly</td>\n",
       "      <td>1</td>\n",
       "    </tr>\n",
       "    <tr>\n",
       "      <th>17676</th>\n",
       "      <td>15402</td>\n",
       "      <td>14596</td>\n",
       "      <td>17335</td>\n",
       "      <td>17676</td>\n",
       "      <td>2015-03-25</td>\n",
       "      <td>thea</td>\n",
       "      <td>Thea:  Purina Canine FortiFlora (30ct)</td>\n",
       "      <td>1.0</td>\n",
       "      <td>thea</td>\n",
       "      <td>1</td>\n",
       "    </tr>\n",
       "    <tr>\n",
       "      <th>17716</th>\n",
       "      <td>8406</td>\n",
       "      <td>8113</td>\n",
       "      <td>17375</td>\n",
       "      <td>17716</td>\n",
       "      <td>2017-11-10</td>\n",
       "      <td>juno</td>\n",
       "      <td>Juno:  Alfaxan 10 mg/mL</td>\n",
       "      <td>1.0</td>\n",
       "      <td>juno</td>\n",
       "      <td>1</td>\n",
       "    </tr>\n",
       "  </tbody>\n",
       "</table>\n",
       "</div>"
      ],
      "text/plain": [
       "       PolicyId  OwnerId  ClaimId  LineItemId  ClaimDate PolicyPetName  \\\n",
       "169         169      169      169         169 2016-10-20          pyro   \n",
       "402         400      398      401         402 2018-07-09           rex   \n",
       "443         440      438      442         443 2021-03-31           ivy   \n",
       "463         460      458      462         463 2019-09-10        tucker   \n",
       "672         667      664      671         672 2020-10-22       scooter   \n",
       "857         847      841      854         857 2015-04-30        gybsen   \n",
       "1226       1212     1199     1222        1226 2018-05-30     whirlwind   \n",
       "1789       1762     1741     1784        1789 2020-01-30         chloe   \n",
       "2096       2057     2030     2089        2096 2021-06-14         rocco   \n",
       "2884       2807     2757     2870        2884 2020-04-18        remsen   \n",
       "3048       2961     2911     3032        3048 2020-10-15        audrey   \n",
       "3377       3272     3212     3358        3377 2018-12-01      talisker   \n",
       "3755       3628     3555     3735        3755 2019-09-17        tigger   \n",
       "4043       3902     3818     4023        4043 2020-09-24          roxy   \n",
       "5187       1101      320     5156        5187 2018-06-25         keely   \n",
       "5432       5176     5050     5398        5432 2019-08-20       greyson   \n",
       "5536       3010      320     5500        5536 2018-11-20         molly   \n",
       "5830       3536     3466     5790        5830 2016-10-18         sammy   \n",
       "6114        915      906     6067        6114 2019-04-04       georgie   \n",
       "6839       6445     6254     6784        6839 2019-03-01         tonka   \n",
       "7148       6715     6510     7089        7148 2019-06-19         pablo   \n",
       "7357       5906     5743     7296        7357 2018-12-03        george   \n",
       "7420       6955     6745     7358        7420 2020-09-08         dolly   \n",
       "8032       7493     7244     7963        8032 2019-02-15          thor   \n",
       "8055       7512     7262     7986        8055 2018-04-28          jade   \n",
       "8111       7560     7306     8041        8111 2018-11-26          suki   \n",
       "8447       7854     7588     8371        8447 2016-06-18           joe   \n",
       "8834       8193     7909     8749        8834 2018-05-23         gotti   \n",
       "9270       8574     8275     9181        9270 2017-08-30       brendal   \n",
       "10223      9409     9060    10113       10223 2019-12-16         simon   \n",
       "10244      9426     9077    10133       10244 2021-03-17          vera   \n",
       "10305      9480     9126    10193       10305 2016-04-06         simon   \n",
       "13032     11749     3903    12846       13032 2016-10-25           nip   \n",
       "13154     11844    11306    12961       13154 2021-08-10        daphne   \n",
       "13229       315      313    13034       13229 2018-08-27        auggie   \n",
       "13985     12526    11943    13772       13985 2019-02-07        minnie   \n",
       "14072     12595    12006    13857       14072 2020-08-06         teddy   \n",
       "15394      1300     1286    15136       15394 2019-05-21          hugo   \n",
       "15570      6359     6174    15306       15570 2020-06-25          meme   \n",
       "15925     14055    13360    15649       15925 2018-06-02        bailey   \n",
       "16101     14189    13480    15816       16101 2017-09-20        maddie   \n",
       "16447      5927      584    14681       16447 2018-06-30        diesel   \n",
       "16656     14622    13883    16354       16656 2017-08-12         priya   \n",
       "17082      6142     2062    16755       17082 2014-01-11        kimber   \n",
       "17120     14970    14203    16792       17120 2020-08-25        kensie   \n",
       "17338     15143    14364    17007       17338 2020-11-17         mazel   \n",
       "17399     15186    11601    17063       17399 2020-01-31        vinnie   \n",
       "17656     15387    14581    17315       17656 2017-10-09         molly   \n",
       "17676     15402    14596    17335       17676 2015-03-25          thea   \n",
       "17716      8406     8113    17375       17716 2017-11-10          juno   \n",
       "\n",
       "                                         ItemDescription  WrongPetFlag  \\\n",
       "169                     Pyro:  Gabapentin 300mg capsules           1.0   \n",
       "402                           Rex:  Complete Blood Count           1.0   \n",
       "443                         Ivy:  Caesarean Newborn Care           1.0   \n",
       "463                                Tucker:  xU*rinalysis           1.0   \n",
       "672    Scooter:  Hills k/d Kidney K9 Chicken Stew 12.5oz           1.0   \n",
       "857                  Gybsen:  Kong Shakerz - Caterpillar           1.0   \n",
       "1226              Whirlwind:  Fortiflora Feline 30ct Box           1.0   \n",
       "1789        Chloe:  Regulated Medical Waste Disposal Fee           1.0   \n",
       "2096                Rocco:  Solliquin Soft Chews 8-30lbs           1.0   \n",
       "2884            REMSEN:  Subcut Fluid  ( 150 ml or less)           1.0   \n",
       "3048      Audrey:  Misc - Medication TGH - Estimate only           1.0   \n",
       "3377           Talisker:  Injection for intestinal irrit           1.0   \n",
       "3755                         TIGGER :  Cerenia Injection           1.0   \n",
       "4043                      Roxy:  Medical Progress Exam 1           1.0   \n",
       "5187                              Keely:  Acupuncture tx           1.0   \n",
       "5432             Greyson:  Fecal-Ova & Parasites/Giardia           1.0   \n",
       "5536        Molly:  Low Level Laser Therapy 3B - Add'nal           1.0   \n",
       "5830                              Sammy:  Heartworm Test           1.0   \n",
       "6114                Georgie:  Prednisone 5mg, per Tablet           1.0   \n",
       "6839                    Tonka:  HA 7+ Canine  4lb (2571)           1.0   \n",
       "7148            Pablo:  Dog Trainer - Reactive Dog Class           1.0   \n",
       "7357   George:  NYS Mandated- Medical Waste Disposal Fee           1.0   \n",
       "7420                  Dolly:  Rabies Vaccination, 1 Year           1.0   \n",
       "8032     Thor:  Thor MR7473 - 1cc Slip Tip x 10 Syringes           1.0   \n",
       "8055                  Jade:  Distemper - Canine - 3 Year           1.0   \n",
       "8111       Suki:  PREPAID Fecal Dx? Profile with Giardia           1.0   \n",
       "8447                            Joe:  Exam-Comprehensive           1.0   \n",
       "8834                 Gotti:  DHPP - 3 wk (given w/Lepto)           1.0   \n",
       "9270             Brendal:  Radiograph, Digital (2 views)           1.0   \n",
       "10223         Simon:  Rayne Fel Kangaroo Maintenance Can           1.0   \n",
       "10244                      Vera:  Covid-19 PPE Surcharge           1.0   \n",
       "10305                       Simon:  Ear Cleaning Level 1           1.0   \n",
       "13032                                  Nip:  EXAMINATION           1.0   \n",
       "13154                Daphne:  Medical Waste - Outpatient           1.0   \n",
       "13229              Auggie:  ANESTHESIA INCLUDED (1ST HR)           1.0   \n",
       "13985                               Minnie:  Acupuncture           1.0   \n",
       "14072             Teddy:  Fine Needle Aspirate(s) (FNA)            1.0   \n",
       "15394    Hugo:  Skin/Ear Cyto or Scrape (2-3 test tech.)           1.0   \n",
       "15570                   MeMe:  Total Health Plus Profile           1.0   \n",
       "15925   Bailey:  Cook County Fee For Rabies Tag (3 year)           1.0   \n",
       "16101                            Maddie:  Cytopoint 40mg           1.0   \n",
       "16447            DIESEL:  ANTINOL 50mg CAPS --BOX OF 30            1.0   \n",
       "16656              Priya:  HARNESS RC CIRQUE - BLACK - M           1.0   \n",
       "17082   Kimber:  Rayne Rx Treat - Apple & Pumpkin (300g)           1.0   \n",
       "17120             Kensie:  Optix Care Eye Cleaning Wipes           1.0   \n",
       "17338               Mazel:  Bupivacaine Local Anesthesia           1.0   \n",
       "17399                            Vinnie:  Dispensing fee           1.0   \n",
       "17656                       Molly:  Office Visit - Brief           1.0   \n",
       "17676             Thea:  Purina Canine FortiFlora (30ct)           1.0   \n",
       "17716                            Juno:  Alfaxan 10 mg/mL           1.0   \n",
       "\n",
       "      ItemPetName  same_name  \n",
       "169          pyro          1  \n",
       "402           rex          1  \n",
       "443           ivy          1  \n",
       "463        tucker          1  \n",
       "672       scooter          1  \n",
       "857        gybsen          1  \n",
       "1226    whirlwind          1  \n",
       "1789        chloe          1  \n",
       "2096        rocco          1  \n",
       "2884       remsen          1  \n",
       "3048       audrey          1  \n",
       "3377     talisker          1  \n",
       "3755       tigger          1  \n",
       "4043         roxy          1  \n",
       "5187        keely          1  \n",
       "5432      greyson          1  \n",
       "5536        molly          1  \n",
       "5830        sammy          1  \n",
       "6114      georgie          1  \n",
       "6839        tonka          1  \n",
       "7148        pablo          1  \n",
       "7357       george          1  \n",
       "7420        dolly          1  \n",
       "8032         thor          1  \n",
       "8055         jade          1  \n",
       "8111         suki          1  \n",
       "8447          joe          1  \n",
       "8834        gotti          1  \n",
       "9270      brendal          1  \n",
       "10223       simon          1  \n",
       "10244        vera          1  \n",
       "10305       simon          1  \n",
       "13032         nip          1  \n",
       "13154      daphne          1  \n",
       "13229      auggie          1  \n",
       "13985      minnie          1  \n",
       "14072       teddy          1  \n",
       "15394        hugo          1  \n",
       "15570        meme          1  \n",
       "15925      bailey          1  \n",
       "16101      maddie          1  \n",
       "16447      diesel          1  \n",
       "16656       priya          1  \n",
       "17082      kimber          1  \n",
       "17120      kensie          1  \n",
       "17338       mazel          1  \n",
       "17399      vinnie          1  \n",
       "17656       molly          1  \n",
       "17676        thea          1  \n",
       "17716        juno          1  "
      ]
     },
     "execution_count": 14,
     "metadata": {},
     "output_type": "execute_result"
    }
   ],
   "source": [
    "# There are rows where the WrongPetFlag is 1, but the line item name is an exaxt match with the policy pet name\n",
    "# Though this is a ground truth column, it's possible these flags are erroneous? I don't have time to resolve this\n",
    "# but in the real world I would be surfacing this issue with whoever owns this dataset. \n",
    "lineitem.loc[(lineitem['same_name']==1) & (lineitem['WrongPetFlag']==1)]"
   ]
  },
  {
   "cell_type": "code",
   "execution_count": 15,
   "metadata": {},
   "outputs": [
    {
     "data": {
      "text/plain": [
       "PolicyId                                        21\n",
       "OwnerId                                         21\n",
       "ClaimId                                         21\n",
       "LineItemId                                      21\n",
       "ClaimDate                      2017-03-10 00:00:00\n",
       "PolicyPetName                                bucky\n",
       "ItemDescription    Buck:  Elizabethan collar 10 in\n",
       "WrongPetFlag                                     0\n",
       "ItemPetName                                   buck\n",
       "same_name                                        0\n",
       "edit_distance                                    1\n",
       "policy_ratio                                   0.2\n",
       "item_ratio                                    0.25\n",
       "Name: 21, dtype: object"
      ]
     },
     "execution_count": 15,
     "metadata": {},
     "output_type": "execute_result"
    }
   ],
   "source": [
    "# There are 1600 rows where the WrongPetFlag is 0 but we found the exact same name\n",
    "lineitem.loc[(lineitem['same_name']==False) & (lineitem['WrongPetFlag']==0)] # line 21\n",
    "# Most appear to be abbreviations, typos, dropped honorifics, etc\n",
    "# Given the number of edge cases, let's simply add edit_distance as a column\n",
    "# to indicate how many letter changes are needed to get the words to match\n",
    "# The edit distance will be zero where same_name = 1\n",
    "edit_dist = lineitem.loc[:, [\"PolicyPetName\", \"ItemPetName\"]].apply(lambda x: edit_distance(*x), axis=1)\n",
    "lineitem['edit_distance'] = edit_dist\n",
    "# Also add features for the edit distance normalized by both options for name\n",
    "lineitem['policy_ratio'] = lineitem['edit_distance']/lineitem['PolicyPetName'].str.len()\n",
    "lineitem.loc[lineitem['same_name']==1,'policy_ratio'] = 0\n",
    "lineitem['item_ratio'] = lineitem['edit_distance']/lineitem['ItemPetName'].str.len()\n",
    "lineitem.loc[lineitem['same_name']==1,'item_ratio'] = 0\n",
    "lineitem.iloc[21]"
   ]
  },
  {
   "cell_type": "code",
   "execution_count": 16,
   "metadata": {},
   "outputs": [
    {
     "data": {
      "text/plain": [
       "PolicyId                                                         1\n",
       "OwnerId                                                          1\n",
       "ClaimId                                                          1\n",
       "LineItemId                                                       1\n",
       "ClaimDate                                      2018-05-01 00:00:00\n",
       "PolicyPetName                                                honey\n",
       "ItemDescription    Pepper:  WHPlan CIV Vaccine & Booster -15% disc\n",
       "WrongPetFlag                                                     1\n",
       "ItemPetName                                                 pepper\n",
       "same_name                                                        0\n",
       "edit_distance                                                    5\n",
       "policy_ratio                                                     1\n",
       "item_ratio                                                0.833333\n",
       "Name: 1, dtype: object"
      ]
     },
     "execution_count": 16,
     "metadata": {},
     "output_type": "execute_result"
    }
   ],
   "source": [
    "lineitem.iloc[1]"
   ]
  },
  {
   "cell_type": "code",
   "execution_count": 17,
   "metadata": {},
   "outputs": [
    {
     "data": {
      "text/plain": [
       "PolicyId                                        21\n",
       "OwnerId                                         21\n",
       "ClaimId                                         21\n",
       "LineItemId                                      21\n",
       "ClaimDate                      2017-03-10 00:00:00\n",
       "PolicyPetName                                bucky\n",
       "ItemDescription    Buck:  Elizabethan collar 10 in\n",
       "WrongPetFlag                                     0\n",
       "ItemPetName                                   buck\n",
       "same_name                                        0\n",
       "edit_distance                                    1\n",
       "policy_ratio                                   0.2\n",
       "item_ratio                                    0.25\n",
       "contained                                        1\n",
       "Name: 21, dtype: object"
      ]
     },
     "execution_count": 17,
     "metadata": {},
     "output_type": "execute_result"
    }
   ],
   "source": [
    "# Determine where the policy name is fully contained within item pet name, or vice versa\n",
    "lineitem['contained'] = (lineitem.apply(lambda x: x.ItemPetName in x.PolicyPetName or x.PolicyPetName in x.ItemPetName, axis=1)).astype('int')\n",
    "lineitem.iloc[21]"
   ]
  },
  {
   "cell_type": "code",
   "execution_count": 18,
   "metadata": {},
   "outputs": [],
   "source": [
    "# Extract month, year. \n",
    "# We're keeping the dates around so we can add a feature for whether the claim \n",
    "# occured when the policy was active\n",
    "lineitem['ClaimMonth'] = lineitem.ClaimDate.dt.month\n",
    "lineitem['ClaimYear'] = lineitem.ClaimDate.dt.year"
   ]
  },
  {
   "cell_type": "code",
   "execution_count": 19,
   "metadata": {},
   "outputs": [
    {
     "name": "stdout",
     "output_type": "stream",
     "text": [
      "Nulls:\n",
      " PolicyId              0\n",
      "OwnerId               0\n",
      "ClaimId               0\n",
      "LineItemId            0\n",
      "ClaimDate             0\n",
      "PolicyPetName         0\n",
      "ItemDescription       0\n",
      "WrongPetFlag       2000\n",
      "ItemPetName           0\n",
      "same_name             0\n",
      "edit_distance         0\n",
      "policy_ratio          0\n",
      "item_ratio            0\n",
      "contained             0\n",
      "ClaimMonth            0\n",
      "ClaimYear             0\n",
      "dtype: int64\n",
      "<class 'pandas.core.frame.DataFrame'>\n",
      "RangeIndex: 20000 entries, 0 to 19999\n",
      "Data columns (total 16 columns):\n",
      " #   Column           Non-Null Count  Dtype         \n",
      "---  ------           --------------  -----         \n",
      " 0   PolicyId         20000 non-null  int64         \n",
      " 1   OwnerId          20000 non-null  int64         \n",
      " 2   ClaimId          20000 non-null  int64         \n",
      " 3   LineItemId       20000 non-null  int64         \n",
      " 4   ClaimDate        20000 non-null  datetime64[ns]\n",
      " 5   PolicyPetName    20000 non-null  object        \n",
      " 6   ItemDescription  20000 non-null  object        \n",
      " 7   WrongPetFlag     18000 non-null  float64       \n",
      " 8   ItemPetName      20000 non-null  object        \n",
      " 9   same_name        20000 non-null  int64         \n",
      " 10  edit_distance    20000 non-null  int64         \n",
      " 11  policy_ratio     20000 non-null  float64       \n",
      " 12  item_ratio       20000 non-null  float64       \n",
      " 13  contained        20000 non-null  int64         \n",
      " 14  ClaimMonth       20000 non-null  int64         \n",
      " 15  ClaimYear        20000 non-null  int64         \n",
      "dtypes: datetime64[ns](1), float64(3), int64(9), object(3)\n",
      "memory usage: 2.4+ MB\n",
      "None\n",
      "           PolicyId       OwnerId       ClaimId    LineItemId  WrongPetFlag  \\\n",
      "count  20000.000000  20000.000000  20000.000000  20000.000000  18000.000000   \n",
      "mean    8137.439250   7490.361800   9712.369750   9999.500000      0.151000   \n",
      "std     4957.998788   4693.395466   5648.334647   5773.647028      0.358059   \n",
      "min        0.000000      0.000000      0.000000      0.000000      0.000000   \n",
      "25%     3810.750000   3361.750000   4817.750000   4999.750000      0.000000   \n",
      "50%     7897.500000   7163.500000   9671.500000   9999.500000      0.000000   \n",
      "75%    12371.250000  11463.250000  14599.250000  14999.250000      0.000000   \n",
      "max    17179.000000  16230.000000  19565.000000  19999.000000      1.000000   \n",
      "\n",
      "          same_name  edit_distance  policy_ratio    item_ratio     contained  \\\n",
      "count  20000.000000   20000.000000  20000.000000  20000.000000  20000.000000   \n",
      "mean       0.762750       1.451100      0.222826      0.249293      0.822600   \n",
      "std        0.425407       3.216011      0.495890      0.565766      0.382016   \n",
      "min        0.000000       0.000000      0.000000      0.000000      0.000000   \n",
      "25%        1.000000       0.000000      0.000000      0.000000      1.000000   \n",
      "50%        1.000000       0.000000      0.000000      0.000000      1.000000   \n",
      "75%        1.000000       0.000000      0.000000      0.000000      1.000000   \n",
      "max        1.000000      69.000000      7.000000      9.857143      1.000000   \n",
      "\n",
      "         ClaimMonth     ClaimYear  \n",
      "count  20000.000000  20000.000000  \n",
      "mean       6.392150   2018.571250  \n",
      "std        3.368967      1.705804  \n",
      "min        1.000000   2003.000000  \n",
      "25%        4.000000   2018.000000  \n",
      "50%        6.000000   2019.000000  \n",
      "75%        9.000000   2020.000000  \n",
      "max       12.000000   2021.000000  \n",
      "NullRows:\n",
      "        PolicyId  OwnerId  ClaimId  LineItemId  ClaimDate  \\\n",
      "18000     15650    14825    17649       18000 2020-09-02   \n",
      "18001     15651    14826    17650       18001 2016-12-17   \n",
      "18002      6349      731    17651       18002 2020-12-01   \n",
      "18003      4366     4268     4523       18003 2018-11-28   \n",
      "18004     15652    14827    17652       18004 2019-03-01   \n",
      "...         ...      ...      ...         ...        ...   \n",
      "19995     17176    16227    19562       19995 2019-01-17   \n",
      "19996     17177    16228    19563       19996 2018-09-26   \n",
      "19997     17178    16229    19564       19997 2019-04-09   \n",
      "19998     17179    16230    19565       19998 2017-06-26   \n",
      "19999     15141    14362    17004       19999 2019-09-19   \n",
      "\n",
      "                  PolicyPetName  \\\n",
      "18000                     teddy   \n",
      "18001                      mini   \n",
      "18002                     basil   \n",
      "18003                     chunk   \n",
      "18004                     marge   \n",
      "...                         ...   \n",
      "19995                     benny   \n",
      "19996                     tonks   \n",
      "19997  alfred (alfie) hitchcock   \n",
      "19998                   delilah   \n",
      "19999                      blue   \n",
      "\n",
      "                                     ItemDescription  WrongPetFlag  \\\n",
      "18000                      Teddy:  Daily Doctor Care           NaN   \n",
      "18001            Mini:  Feline Respiratory PCR Panel           NaN   \n",
      "18002         Blueberry:  PROIN ER 18 MG BOTTLE 30ct           NaN   \n",
      "18003               Chunk:  Histo Idexx Site 1 (601)           NaN   \n",
      "18004   Emma:  PR Diet Canine Metabolic Chicken 370g           NaN   \n",
      "...                                              ...           ...   \n",
      "19995       Benny:  RC Can GI Low Fat cse/12 #108087           NaN   \n",
      "19996  TONKS:  Tobramycin 0.3% Ophthalmic Sol'n 5 mL           NaN   \n",
      "19997           Alfred (Alfie) Hitchcock :  Sedation           NaN   \n",
      "19998         Delilah:  Subcutaneous Fluids (<250ml)           NaN   \n",
      "19999       Bebe:  Gabapentin 100mg/mL Oral Solution           NaN   \n",
      "\n",
      "                    ItemPetName  same_name  edit_distance  policy_ratio  \\\n",
      "18000                     teddy          1              0           0.0   \n",
      "18001                      mini          1              0           0.0   \n",
      "18002                 blueberry          0              8           1.6   \n",
      "18003                     chunk          1              0           0.0   \n",
      "18004                      emma          0              5           1.0   \n",
      "...                         ...        ...            ...           ...   \n",
      "19995                     benny          1              0           0.0   \n",
      "19996                     tonks          1              0           0.0   \n",
      "19997  alfred (alfie) hitchcock          1              0           0.0   \n",
      "19998                   delilah          1              0           0.0   \n",
      "19999                      bebe          0              2           0.5   \n",
      "\n",
      "       item_ratio  contained  ClaimMonth  ClaimYear  \n",
      "18000    0.000000          1           9       2020  \n",
      "18001    0.000000          1          12       2016  \n",
      "18002    0.888889          0          12       2020  \n",
      "18003    0.000000          1          11       2018  \n",
      "18004    1.250000          0           3       2019  \n",
      "...           ...        ...         ...        ...  \n",
      "19995    0.000000          1           1       2019  \n",
      "19996    0.000000          1           9       2018  \n",
      "19997    0.000000          1           4       2019  \n",
      "19998    0.000000          1           6       2017  \n",
      "19999    0.500000          0           9       2019  \n",
      "\n",
      "[2000 rows x 16 columns]\n"
     ]
    }
   ],
   "source": [
    "check_data(lineitem) # Only nulls are the test set, distributions are reasonable"
   ]
  },
  {
   "cell_type": "code",
   "execution_count": 20,
   "metadata": {},
   "outputs": [],
   "source": [
    "#boxplot_numerics(lineitem) # zoom in to see the ratios likely don't have true outliers"
   ]
  },
  {
   "cell_type": "markdown",
   "metadata": {},
   "source": [
    "# Merge datasets\n",
    "At this stage we are confident the dataset is clean and well formed. Our objective is to predict whether or not a claim was filed under the wrong pet name, so we are only interested in the claims data. Construct this data by taking an inner join of the two datasets on their shared keys, OwnerId and PolicyId. Doublecheck the counts, types, and spot check one entry."
   ]
  },
  {
   "cell_type": "code",
   "execution_count": 21,
   "metadata": {},
   "outputs": [
    {
     "name": "stdout",
     "output_type": "stream",
     "text": [
      "<class 'pandas.core.frame.DataFrame'>\n",
      "Int64Index: 20000 entries, 0 to 19999\n",
      "Data columns (total 23 columns):\n",
      " #   Column           Non-Null Count  Dtype         \n",
      "---  ------           --------------  -----         \n",
      " 0   PolicyId         20000 non-null  int64         \n",
      " 1   OwnerId          20000 non-null  int64         \n",
      " 2   ClaimId          20000 non-null  int64         \n",
      " 3   LineItemId       20000 non-null  int64         \n",
      " 4   ClaimDate        20000 non-null  datetime64[ns]\n",
      " 5   PolicyPetName_x  20000 non-null  object        \n",
      " 6   ItemDescription  20000 non-null  object        \n",
      " 7   WrongPetFlag     18000 non-null  float64       \n",
      " 8   ItemPetName      20000 non-null  object        \n",
      " 9   same_name        20000 non-null  int64         \n",
      " 10  edit_distance    20000 non-null  int64         \n",
      " 11  policy_ratio     20000 non-null  float64       \n",
      " 12  item_ratio       20000 non-null  float64       \n",
      " 13  contained        20000 non-null  int64         \n",
      " 14  ClaimMonth       20000 non-null  int64         \n",
      " 15  ClaimYear        20000 non-null  int64         \n",
      " 16  PolicyPetName_y  20000 non-null  object        \n",
      " 17  EnrollDate       20000 non-null  datetime64[ns]\n",
      " 18  CancelDate       20000 non-null  datetime64[ns]\n",
      " 19  Active           20000 non-null  float64       \n",
      " 20  DurationDays     20000 non-null  int64         \n",
      " 21  EnrollMonth      20000 non-null  int64         \n",
      " 22  EnrollYear       20000 non-null  int64         \n",
      "dtypes: datetime64[ns](3), float64(4), int64(12), object(4)\n",
      "memory usage: 3.7+ MB\n"
     ]
    },
    {
     "data": {
      "text/html": [
       "<div>\n",
       "<style scoped>\n",
       "    .dataframe tbody tr th:only-of-type {\n",
       "        vertical-align: middle;\n",
       "    }\n",
       "\n",
       "    .dataframe tbody tr th {\n",
       "        vertical-align: top;\n",
       "    }\n",
       "\n",
       "    .dataframe thead th {\n",
       "        text-align: right;\n",
       "    }\n",
       "</style>\n",
       "<table border=\"1\" class=\"dataframe\">\n",
       "  <thead>\n",
       "    <tr style=\"text-align: right;\">\n",
       "      <th></th>\n",
       "      <th>PolicyId</th>\n",
       "      <th>OwnerId</th>\n",
       "      <th>ClaimId</th>\n",
       "      <th>LineItemId</th>\n",
       "      <th>ClaimDate</th>\n",
       "      <th>PolicyPetName_x</th>\n",
       "      <th>ItemDescription</th>\n",
       "      <th>WrongPetFlag</th>\n",
       "      <th>ItemPetName</th>\n",
       "      <th>same_name</th>\n",
       "      <th>...</th>\n",
       "      <th>contained</th>\n",
       "      <th>ClaimMonth</th>\n",
       "      <th>ClaimYear</th>\n",
       "      <th>PolicyPetName_y</th>\n",
       "      <th>EnrollDate</th>\n",
       "      <th>CancelDate</th>\n",
       "      <th>Active</th>\n",
       "      <th>DurationDays</th>\n",
       "      <th>EnrollMonth</th>\n",
       "      <th>EnrollYear</th>\n",
       "    </tr>\n",
       "  </thead>\n",
       "  <tbody>\n",
       "    <tr>\n",
       "      <th>14521</th>\n",
       "      <td>11919</td>\n",
       "      <td>11376</td>\n",
       "      <td>13049</td>\n",
       "      <td>13244</td>\n",
       "      <td>2016-02-17</td>\n",
       "      <td>indy</td>\n",
       "      <td>Indy:  Cerenia 10mg/ml  Inj. DIN 02299542</td>\n",
       "      <td>0.0</td>\n",
       "      <td>indy</td>\n",
       "      <td>1</td>\n",
       "      <td>...</td>\n",
       "      <td>1</td>\n",
       "      <td>2</td>\n",
       "      <td>2016</td>\n",
       "      <td>Indy</td>\n",
       "      <td>2008-10-10</td>\n",
       "      <td>2020-09-07</td>\n",
       "      <td>0.0</td>\n",
       "      <td>4350</td>\n",
       "      <td>10</td>\n",
       "      <td>2008</td>\n",
       "    </tr>\n",
       "  </tbody>\n",
       "</table>\n",
       "<p>1 rows × 23 columns</p>\n",
       "</div>"
      ],
      "text/plain": [
       "       PolicyId  OwnerId  ClaimId  LineItemId  ClaimDate PolicyPetName_x  \\\n",
       "14521     11919    11376    13049       13244 2016-02-17            indy   \n",
       "\n",
       "                                 ItemDescription  WrongPetFlag ItemPetName  \\\n",
       "14521  Indy:  Cerenia 10mg/ml  Inj. DIN 02299542           0.0        indy   \n",
       "\n",
       "       same_name  ...  contained  ClaimMonth  ClaimYear  PolicyPetName_y  \\\n",
       "14521          1  ...          1           2       2016             Indy   \n",
       "\n",
       "       EnrollDate  CancelDate Active DurationDays EnrollMonth  EnrollYear  \n",
       "14521  2008-10-10  2020-09-07    0.0         4350          10        2008  \n",
       "\n",
       "[1 rows x 23 columns]"
      ]
     },
     "execution_count": 21,
     "metadata": {},
     "output_type": "execute_result"
    }
   ],
   "source": [
    "# Join the data to associate claims with policies via their owners\n",
    "# We expect 20K rows, 2K of which are test\n",
    "claims = pd.merge(lineitem,policy,on=['OwnerId','PolicyId'])\n",
    "claims.info()\n",
    "claims[claims.OwnerId==11376] # 4 pets, 1 claim; expect only 1 line after joining"
   ]
  },
  {
   "cell_type": "markdown",
   "metadata": {},
   "source": [
    "## Consider features based on joined data"
   ]
  },
  {
   "cell_type": "code",
   "execution_count": 22,
   "metadata": {},
   "outputs": [
    {
     "data": {
      "text/plain": [
       "0.98305"
      ]
     },
     "execution_count": 22,
     "metadata": {},
     "output_type": "execute_result"
    }
   ],
   "source": [
    "# was the claim during the policy? Yes nearly all, this won't be a helpful feature. \n",
    "mask = (claims['ClaimDate'] > claims['EnrollDate']) & (claims['ClaimDate'] <= claims['CancelDate'])\n",
    "mask.sum()/len(claims)"
   ]
  },
  {
   "cell_type": "code",
   "execution_count": 23,
   "metadata": {},
   "outputs": [
    {
     "data": {
      "text/plain": [
       "1.0"
      ]
     },
     "execution_count": 23,
     "metadata": {},
     "output_type": "execute_result"
    }
   ],
   "source": [
    "# how many of the pet names are the same in both files? \n",
    "#  all of them, no need to use this information further.\n",
    "claims.loc[:,['PolicyPetName_x','PolicyPetName_y']].head() # need to fix strings on the latter\n",
    "mask = claims['PolicyPetName_x'] == claims['PolicyPetName_y'].str.lower().str.strip()\n",
    "mask.sum()/len(claims)"
   ]
  },
  {
   "cell_type": "markdown",
   "metadata": {},
   "source": [
    "## Create datasets for modeling and validation"
   ]
  },
  {
   "cell_type": "code",
   "execution_count": 24,
   "metadata": {},
   "outputs": [],
   "source": [
    "# We have extracted the information we needed from the names, dates, IDs, description\n",
    "deprecated = ['PolicyId','OwnerId','ClaimId','LineItemId','ClaimDate','PolicyPetName_x',\n",
    "             'ItemDescription','ItemPetName','PolicyPetName_y','EnrollDate','CancelDate']\n",
    "df = claims.drop(columns=deprecated)"
   ]
  },
  {
   "cell_type": "code",
   "execution_count": 25,
   "metadata": {},
   "outputs": [],
   "source": [
    "# Split unseen test data from other data\n",
    "df_test = df.loc[df['WrongPetFlag'].isnull()]\n",
    "raw_features = df.loc[df['WrongPetFlag'].notnull()]\n",
    "\n",
    "# Split target and features\n",
    "Y = raw_features.WrongPetFlag\n",
    "X = raw_features.drop(columns='WrongPetFlag')\n",
    "\n",
    "# Grab the feature columns to use when dataframes become arrays\n",
    "feat_cols = list(X.columns)"
   ]
  },
  {
   "cell_type": "code",
   "execution_count": 26,
   "metadata": {},
   "outputs": [
    {
     "data": {
      "text/plain": [
       "Index(['same_name', 'edit_distance', 'policy_ratio', 'item_ratio', 'contained',\n",
       "       'ClaimMonth', 'ClaimYear', 'Active', 'DurationDays', 'EnrollMonth',\n",
       "       'EnrollYear'],\n",
       "      dtype='object')"
      ]
     },
     "execution_count": 26,
     "metadata": {},
     "output_type": "execute_result"
    }
   ],
   "source": [
    "# Create train and validation sets\n",
    "X_train, X_val, Y_train, Y_val = train_test_split(X, Y, test_size=0.2)\n",
    "X_train.columns"
   ]
  },
  {
   "cell_type": "code",
   "execution_count": 27,
   "metadata": {},
   "outputs": [
    {
     "data": {
      "text/plain": [
       "Index(['same_name', 'edit_distance', 'policy_ratio', 'item_ratio', 'contained',\n",
       "       'ClaimMonth', 'ClaimYear', 'Active', 'DurationDays', 'EnrollMonth',\n",
       "       'EnrollYear'],\n",
       "      dtype='object')"
      ]
     },
     "execution_count": 27,
     "metadata": {},
     "output_type": "execute_result"
    }
   ],
   "source": [
    "# Logistic regression requires scaling and forests aren't affected by it, so scale\n",
    "scaler = MinMaxScaler()\n",
    "X_train = scaler.fit_transform(X_train)\n",
    "X_val = scaler.fit_transform(X_val)\n",
    "# the scaler returns numpy array but it is useful to keep a version as dataframes\n",
    "X_train_df = pd.DataFrame(X_train,columns=feat_cols)\n",
    "X_val_df = pd.DataFrame(X_val,columns=feat_cols)\n",
    "X_train_df.columns"
   ]
  },
  {
   "cell_type": "code",
   "execution_count": 28,
   "metadata": {},
   "outputs": [],
   "source": [
    "#boxplot_numerics(X_train_df)"
   ]
  },
  {
   "cell_type": "markdown",
   "metadata": {},
   "source": [
    "The features appear well distributed. Item ratio has a long right tail - I tested both min-max and standard z score scaling. With min-max, the classifier generalizes better to unseen data, as the long tail on the item_ratio is helpful for prediting the minority class (1 labels). "
   ]
  },
  {
   "cell_type": "markdown",
   "metadata": {},
   "source": [
    "# Feature Selection"
   ]
  },
  {
   "cell_type": "code",
   "execution_count": 29,
   "metadata": {},
   "outputs": [
    {
     "data": {
      "application/vnd.plotly.v1+json": {
       "config": {
        "plotlyServerURL": "https://plot.ly"
       },
       "data": [
        {
         "coloraxis": "coloraxis",
         "hovertemplate": "x: %{x}<br>y: %{y}<br>color: %{z}<extra></extra>",
         "type": "heatmap",
         "x": [
          "WrongPetFlag",
          "same_name",
          "edit_distance",
          "policy_ratio",
          "item_ratio",
          "contained",
          "ClaimMonth",
          "ClaimYear",
          "Active",
          "DurationDays",
          "EnrollMonth",
          "EnrollYear"
         ],
         "y": [
          "WrongPetFlag",
          "same_name",
          "edit_distance",
          "policy_ratio",
          "item_ratio",
          "contained",
          "ClaimMonth",
          "ClaimYear",
          "Active",
          "DurationDays",
          "EnrollMonth",
          "EnrollYear"
         ],
         "z": [
          [
           1,
           -0.738224841349917,
           0.5864789596767149,
           0.699200223783264,
           0.6019766474674769,
           -0.8817687610437533,
           -0.0029551681292889578,
           -0.07848327911493913,
           -0.01632554503368146,
           0.055388296716424236,
           -0.003143368363268889,
           -0.06594678528341263
          ],
          [
           -0.738224841349917,
           1,
           -0.8090561977865707,
           -0.8057104056320177,
           -0.790081913282385,
           0.8326652736642096,
           0.005399151429506038,
           0.0546136479568753,
           0.022836617215769402,
           -0.03399084629506016,
           0.001635241771278783,
           0.046738125303414764
          ],
          [
           0.5864789596767149,
           -0.8090561977865707,
           1,
           0.8223179675663619,
           0.8804401997029538,
           -0.6029062599833397,
           -0.009682294593152042,
           -0.039009484459021256,
           -0.007063278543195634,
           0.030801782331143977,
           -0.000488142091102611,
           -0.03686570682219501
          ],
          [
           0.699200223783264,
           -0.8057104056320177,
           0.8223179675663619,
           1,
           0.6568514576494497,
           -0.7026611414118924,
           -0.002523918644784047,
           -0.049319686821809476,
           -0.0211483371679688,
           0.034936474874969224,
           -0.00601226513133594,
           -0.0457386536334057
          ],
          [
           0.6019766474674769,
           -0.790081913282385,
           0.8804401997029538,
           0.6568514576494497,
           1,
           -0.6084017151916166,
           -0.006279269753822791,
           -0.04042802781785203,
           -0.0033769249096609606,
           0.03182830285184063,
           -0.0028214144077873373,
           -0.03753630531740834
          ],
          [
           -0.8817687610437533,
           0.8326652736642096,
           -0.6029062599833397,
           -0.7026611414118924,
           -0.6084017151916166,
           1,
           -0.0002195835402839357,
           0.07364765684269757,
           0.0265475050647806,
           -0.04528723420605819,
           -0.005898720145914536,
           0.06139593119761282
          ],
          [
           -0.0029551681292889578,
           0.005399151429506038,
           -0.009682294593152042,
           -0.002523918644784047,
           -0.006279269753822791,
           -0.0002195835402839357,
           1,
           -0.17712759869396025,
           -0.0026045808512225417,
           0.0053233193093968475,
           0.04924408640210399,
           -0.011258416423158784
          ],
          [
           -0.07848327911493913,
           0.0546136479568753,
           -0.039009484459021256,
           -0.049319686821809476,
           -0.04042802781785203,
           0.07364765684269757,
           -0.17712759869396025,
           1,
           0.25319138769934835,
           -0.17532404296061976,
           -0.011113358115728665,
           0.36684185169366607
          ],
          [
           -0.01632554503368146,
           0.022836617215769402,
           -0.007063278543195634,
           -0.0211483371679688,
           -0.0033769249096609606,
           0.0265475050647806,
           -0.0026045808512225417,
           0.25319138769934835,
           1,
           0.11084789240067813,
           0.0055435119515555315,
           0.2324564445188417
          ],
          [
           0.055388296716424236,
           -0.03399084629506016,
           0.030801782331143977,
           0.034936474874969224,
           0.03182830285184063,
           -0.04528723420605819,
           0.0053233193093968475,
           -0.17532404296061976,
           0.11084789240067813,
           1,
           -0.005557757462550026,
           -0.8986398564467569
          ],
          [
           -0.003143368363268889,
           0.001635241771278783,
           -0.000488142091102611,
           -0.00601226513133594,
           -0.0028214144077873373,
           -0.005898720145914536,
           0.04924408640210399,
           -0.011113358115728665,
           0.0055435119515555315,
           -0.005557757462550026,
           1,
           -0.07818740760503215
          ],
          [
           -0.06594678528341263,
           0.046738125303414764,
           -0.03686570682219501,
           -0.0457386536334057,
           -0.03753630531740834,
           0.06139593119761282,
           -0.011258416423158784,
           0.36684185169366607,
           0.2324564445188417,
           -0.8986398564467569,
           -0.07818740760503215,
           1
          ]
         ]
        }
       ],
       "layout": {
        "coloraxis": {
         "colorscale": [
          [
           0,
           "#0d0887"
          ],
          [
           0.1111111111111111,
           "#46039f"
          ],
          [
           0.2222222222222222,
           "#7201a8"
          ],
          [
           0.3333333333333333,
           "#9c179e"
          ],
          [
           0.4444444444444444,
           "#bd3786"
          ],
          [
           0.5555555555555556,
           "#d8576b"
          ],
          [
           0.6666666666666666,
           "#ed7953"
          ],
          [
           0.7777777777777778,
           "#fb9f3a"
          ],
          [
           0.8888888888888888,
           "#fdca26"
          ],
          [
           1,
           "#f0f921"
          ]
         ]
        },
        "margin": {
         "t": 60
        },
        "template": {
         "data": {
          "bar": [
           {
            "error_x": {
             "color": "#2a3f5f"
            },
            "error_y": {
             "color": "#2a3f5f"
            },
            "marker": {
             "line": {
              "color": "#E5ECF6",
              "width": 0.5
             }
            },
            "type": "bar"
           }
          ],
          "barpolar": [
           {
            "marker": {
             "line": {
              "color": "#E5ECF6",
              "width": 0.5
             }
            },
            "type": "barpolar"
           }
          ],
          "carpet": [
           {
            "aaxis": {
             "endlinecolor": "#2a3f5f",
             "gridcolor": "white",
             "linecolor": "white",
             "minorgridcolor": "white",
             "startlinecolor": "#2a3f5f"
            },
            "baxis": {
             "endlinecolor": "#2a3f5f",
             "gridcolor": "white",
             "linecolor": "white",
             "minorgridcolor": "white",
             "startlinecolor": "#2a3f5f"
            },
            "type": "carpet"
           }
          ],
          "choropleth": [
           {
            "colorbar": {
             "outlinewidth": 0,
             "ticks": ""
            },
            "type": "choropleth"
           }
          ],
          "contour": [
           {
            "colorbar": {
             "outlinewidth": 0,
             "ticks": ""
            },
            "colorscale": [
             [
              0,
              "#0d0887"
             ],
             [
              0.1111111111111111,
              "#46039f"
             ],
             [
              0.2222222222222222,
              "#7201a8"
             ],
             [
              0.3333333333333333,
              "#9c179e"
             ],
             [
              0.4444444444444444,
              "#bd3786"
             ],
             [
              0.5555555555555556,
              "#d8576b"
             ],
             [
              0.6666666666666666,
              "#ed7953"
             ],
             [
              0.7777777777777778,
              "#fb9f3a"
             ],
             [
              0.8888888888888888,
              "#fdca26"
             ],
             [
              1,
              "#f0f921"
             ]
            ],
            "type": "contour"
           }
          ],
          "contourcarpet": [
           {
            "colorbar": {
             "outlinewidth": 0,
             "ticks": ""
            },
            "type": "contourcarpet"
           }
          ],
          "heatmap": [
           {
            "colorbar": {
             "outlinewidth": 0,
             "ticks": ""
            },
            "colorscale": [
             [
              0,
              "#0d0887"
             ],
             [
              0.1111111111111111,
              "#46039f"
             ],
             [
              0.2222222222222222,
              "#7201a8"
             ],
             [
              0.3333333333333333,
              "#9c179e"
             ],
             [
              0.4444444444444444,
              "#bd3786"
             ],
             [
              0.5555555555555556,
              "#d8576b"
             ],
             [
              0.6666666666666666,
              "#ed7953"
             ],
             [
              0.7777777777777778,
              "#fb9f3a"
             ],
             [
              0.8888888888888888,
              "#fdca26"
             ],
             [
              1,
              "#f0f921"
             ]
            ],
            "type": "heatmap"
           }
          ],
          "heatmapgl": [
           {
            "colorbar": {
             "outlinewidth": 0,
             "ticks": ""
            },
            "colorscale": [
             [
              0,
              "#0d0887"
             ],
             [
              0.1111111111111111,
              "#46039f"
             ],
             [
              0.2222222222222222,
              "#7201a8"
             ],
             [
              0.3333333333333333,
              "#9c179e"
             ],
             [
              0.4444444444444444,
              "#bd3786"
             ],
             [
              0.5555555555555556,
              "#d8576b"
             ],
             [
              0.6666666666666666,
              "#ed7953"
             ],
             [
              0.7777777777777778,
              "#fb9f3a"
             ],
             [
              0.8888888888888888,
              "#fdca26"
             ],
             [
              1,
              "#f0f921"
             ]
            ],
            "type": "heatmapgl"
           }
          ],
          "histogram": [
           {
            "marker": {
             "colorbar": {
              "outlinewidth": 0,
              "ticks": ""
             }
            },
            "type": "histogram"
           }
          ],
          "histogram2d": [
           {
            "colorbar": {
             "outlinewidth": 0,
             "ticks": ""
            },
            "colorscale": [
             [
              0,
              "#0d0887"
             ],
             [
              0.1111111111111111,
              "#46039f"
             ],
             [
              0.2222222222222222,
              "#7201a8"
             ],
             [
              0.3333333333333333,
              "#9c179e"
             ],
             [
              0.4444444444444444,
              "#bd3786"
             ],
             [
              0.5555555555555556,
              "#d8576b"
             ],
             [
              0.6666666666666666,
              "#ed7953"
             ],
             [
              0.7777777777777778,
              "#fb9f3a"
             ],
             [
              0.8888888888888888,
              "#fdca26"
             ],
             [
              1,
              "#f0f921"
             ]
            ],
            "type": "histogram2d"
           }
          ],
          "histogram2dcontour": [
           {
            "colorbar": {
             "outlinewidth": 0,
             "ticks": ""
            },
            "colorscale": [
             [
              0,
              "#0d0887"
             ],
             [
              0.1111111111111111,
              "#46039f"
             ],
             [
              0.2222222222222222,
              "#7201a8"
             ],
             [
              0.3333333333333333,
              "#9c179e"
             ],
             [
              0.4444444444444444,
              "#bd3786"
             ],
             [
              0.5555555555555556,
              "#d8576b"
             ],
             [
              0.6666666666666666,
              "#ed7953"
             ],
             [
              0.7777777777777778,
              "#fb9f3a"
             ],
             [
              0.8888888888888888,
              "#fdca26"
             ],
             [
              1,
              "#f0f921"
             ]
            ],
            "type": "histogram2dcontour"
           }
          ],
          "mesh3d": [
           {
            "colorbar": {
             "outlinewidth": 0,
             "ticks": ""
            },
            "type": "mesh3d"
           }
          ],
          "parcoords": [
           {
            "line": {
             "colorbar": {
              "outlinewidth": 0,
              "ticks": ""
             }
            },
            "type": "parcoords"
           }
          ],
          "pie": [
           {
            "automargin": true,
            "type": "pie"
           }
          ],
          "scatter": [
           {
            "marker": {
             "colorbar": {
              "outlinewidth": 0,
              "ticks": ""
             }
            },
            "type": "scatter"
           }
          ],
          "scatter3d": [
           {
            "line": {
             "colorbar": {
              "outlinewidth": 0,
              "ticks": ""
             }
            },
            "marker": {
             "colorbar": {
              "outlinewidth": 0,
              "ticks": ""
             }
            },
            "type": "scatter3d"
           }
          ],
          "scattercarpet": [
           {
            "marker": {
             "colorbar": {
              "outlinewidth": 0,
              "ticks": ""
             }
            },
            "type": "scattercarpet"
           }
          ],
          "scattergeo": [
           {
            "marker": {
             "colorbar": {
              "outlinewidth": 0,
              "ticks": ""
             }
            },
            "type": "scattergeo"
           }
          ],
          "scattergl": [
           {
            "marker": {
             "colorbar": {
              "outlinewidth": 0,
              "ticks": ""
             }
            },
            "type": "scattergl"
           }
          ],
          "scattermapbox": [
           {
            "marker": {
             "colorbar": {
              "outlinewidth": 0,
              "ticks": ""
             }
            },
            "type": "scattermapbox"
           }
          ],
          "scatterpolar": [
           {
            "marker": {
             "colorbar": {
              "outlinewidth": 0,
              "ticks": ""
             }
            },
            "type": "scatterpolar"
           }
          ],
          "scatterpolargl": [
           {
            "marker": {
             "colorbar": {
              "outlinewidth": 0,
              "ticks": ""
             }
            },
            "type": "scatterpolargl"
           }
          ],
          "scatterternary": [
           {
            "marker": {
             "colorbar": {
              "outlinewidth": 0,
              "ticks": ""
             }
            },
            "type": "scatterternary"
           }
          ],
          "surface": [
           {
            "colorbar": {
             "outlinewidth": 0,
             "ticks": ""
            },
            "colorscale": [
             [
              0,
              "#0d0887"
             ],
             [
              0.1111111111111111,
              "#46039f"
             ],
             [
              0.2222222222222222,
              "#7201a8"
             ],
             [
              0.3333333333333333,
              "#9c179e"
             ],
             [
              0.4444444444444444,
              "#bd3786"
             ],
             [
              0.5555555555555556,
              "#d8576b"
             ],
             [
              0.6666666666666666,
              "#ed7953"
             ],
             [
              0.7777777777777778,
              "#fb9f3a"
             ],
             [
              0.8888888888888888,
              "#fdca26"
             ],
             [
              1,
              "#f0f921"
             ]
            ],
            "type": "surface"
           }
          ],
          "table": [
           {
            "cells": {
             "fill": {
              "color": "#EBF0F8"
             },
             "line": {
              "color": "white"
             }
            },
            "header": {
             "fill": {
              "color": "#C8D4E3"
             },
             "line": {
              "color": "white"
             }
            },
            "type": "table"
           }
          ]
         },
         "layout": {
          "annotationdefaults": {
           "arrowcolor": "#2a3f5f",
           "arrowhead": 0,
           "arrowwidth": 1
          },
          "coloraxis": {
           "colorbar": {
            "outlinewidth": 0,
            "ticks": ""
           }
          },
          "colorscale": {
           "diverging": [
            [
             0,
             "#8e0152"
            ],
            [
             0.1,
             "#c51b7d"
            ],
            [
             0.2,
             "#de77ae"
            ],
            [
             0.3,
             "#f1b6da"
            ],
            [
             0.4,
             "#fde0ef"
            ],
            [
             0.5,
             "#f7f7f7"
            ],
            [
             0.6,
             "#e6f5d0"
            ],
            [
             0.7,
             "#b8e186"
            ],
            [
             0.8,
             "#7fbc41"
            ],
            [
             0.9,
             "#4d9221"
            ],
            [
             1,
             "#276419"
            ]
           ],
           "sequential": [
            [
             0,
             "#0d0887"
            ],
            [
             0.1111111111111111,
             "#46039f"
            ],
            [
             0.2222222222222222,
             "#7201a8"
            ],
            [
             0.3333333333333333,
             "#9c179e"
            ],
            [
             0.4444444444444444,
             "#bd3786"
            ],
            [
             0.5555555555555556,
             "#d8576b"
            ],
            [
             0.6666666666666666,
             "#ed7953"
            ],
            [
             0.7777777777777778,
             "#fb9f3a"
            ],
            [
             0.8888888888888888,
             "#fdca26"
            ],
            [
             1,
             "#f0f921"
            ]
           ],
           "sequentialminus": [
            [
             0,
             "#0d0887"
            ],
            [
             0.1111111111111111,
             "#46039f"
            ],
            [
             0.2222222222222222,
             "#7201a8"
            ],
            [
             0.3333333333333333,
             "#9c179e"
            ],
            [
             0.4444444444444444,
             "#bd3786"
            ],
            [
             0.5555555555555556,
             "#d8576b"
            ],
            [
             0.6666666666666666,
             "#ed7953"
            ],
            [
             0.7777777777777778,
             "#fb9f3a"
            ],
            [
             0.8888888888888888,
             "#fdca26"
            ],
            [
             1,
             "#f0f921"
            ]
           ]
          },
          "colorway": [
           "#636efa",
           "#EF553B",
           "#00cc96",
           "#ab63fa",
           "#FFA15A",
           "#19d3f3",
           "#FF6692",
           "#B6E880",
           "#FF97FF",
           "#FECB52"
          ],
          "font": {
           "color": "#2a3f5f"
          },
          "geo": {
           "bgcolor": "white",
           "lakecolor": "white",
           "landcolor": "#E5ECF6",
           "showlakes": true,
           "showland": true,
           "subunitcolor": "white"
          },
          "hoverlabel": {
           "align": "left"
          },
          "hovermode": "closest",
          "mapbox": {
           "style": "light"
          },
          "paper_bgcolor": "white",
          "plot_bgcolor": "#E5ECF6",
          "polar": {
           "angularaxis": {
            "gridcolor": "white",
            "linecolor": "white",
            "ticks": ""
           },
           "bgcolor": "#E5ECF6",
           "radialaxis": {
            "gridcolor": "white",
            "linecolor": "white",
            "ticks": ""
           }
          },
          "scene": {
           "xaxis": {
            "backgroundcolor": "#E5ECF6",
            "gridcolor": "white",
            "gridwidth": 2,
            "linecolor": "white",
            "showbackground": true,
            "ticks": "",
            "zerolinecolor": "white"
           },
           "yaxis": {
            "backgroundcolor": "#E5ECF6",
            "gridcolor": "white",
            "gridwidth": 2,
            "linecolor": "white",
            "showbackground": true,
            "ticks": "",
            "zerolinecolor": "white"
           },
           "zaxis": {
            "backgroundcolor": "#E5ECF6",
            "gridcolor": "white",
            "gridwidth": 2,
            "linecolor": "white",
            "showbackground": true,
            "ticks": "",
            "zerolinecolor": "white"
           }
          },
          "shapedefaults": {
           "line": {
            "color": "#2a3f5f"
           }
          },
          "ternary": {
           "aaxis": {
            "gridcolor": "white",
            "linecolor": "white",
            "ticks": ""
           },
           "baxis": {
            "gridcolor": "white",
            "linecolor": "white",
            "ticks": ""
           },
           "bgcolor": "#E5ECF6",
           "caxis": {
            "gridcolor": "white",
            "linecolor": "white",
            "ticks": ""
           }
          },
          "title": {
           "x": 0.05
          },
          "xaxis": {
           "automargin": true,
           "gridcolor": "white",
           "linecolor": "white",
           "ticks": "",
           "title": {
            "standoff": 15
           },
           "zerolinecolor": "white",
           "zerolinewidth": 2
          },
          "yaxis": {
           "automargin": true,
           "gridcolor": "white",
           "linecolor": "white",
           "ticks": "",
           "title": {
            "standoff": 15
           },
           "zerolinecolor": "white",
           "zerolinewidth": 2
          }
         }
        },
        "xaxis": {
         "constrain": "domain",
         "scaleanchor": "y"
        },
        "yaxis": {
         "autorange": "reversed",
         "constrain": "domain"
        }
       }
      },
      "text/html": [
       "<div>\n",
       "        \n",
       "        \n",
       "            <div id=\"5d156226-1500-4be0-a68b-cd6537d0dab9\" class=\"plotly-graph-div\" style=\"height:525px; width:100%;\"></div>\n",
       "            <script type=\"text/javascript\">\n",
       "                require([\"plotly\"], function(Plotly) {\n",
       "                    window.PLOTLYENV=window.PLOTLYENV || {};\n",
       "                    \n",
       "                if (document.getElementById(\"5d156226-1500-4be0-a68b-cd6537d0dab9\")) {\n",
       "                    Plotly.newPlot(\n",
       "                        '5d156226-1500-4be0-a68b-cd6537d0dab9',\n",
       "                        [{\"coloraxis\": \"coloraxis\", \"hovertemplate\": \"x: %{x}<br>y: %{y}<br>color: %{z}<extra></extra>\", \"type\": \"heatmap\", \"x\": [\"WrongPetFlag\", \"same_name\", \"edit_distance\", \"policy_ratio\", \"item_ratio\", \"contained\", \"ClaimMonth\", \"ClaimYear\", \"Active\", \"DurationDays\", \"EnrollMonth\", \"EnrollYear\"], \"y\": [\"WrongPetFlag\", \"same_name\", \"edit_distance\", \"policy_ratio\", \"item_ratio\", \"contained\", \"ClaimMonth\", \"ClaimYear\", \"Active\", \"DurationDays\", \"EnrollMonth\", \"EnrollYear\"], \"z\": [[1.0, -0.738224841349917, 0.5864789596767149, 0.699200223783264, 0.6019766474674769, -0.8817687610437533, -0.0029551681292889578, -0.07848327911493913, -0.01632554503368146, 0.055388296716424236, -0.003143368363268889, -0.06594678528341263], [-0.738224841349917, 1.0, -0.8090561977865707, -0.8057104056320177, -0.790081913282385, 0.8326652736642096, 0.005399151429506038, 0.0546136479568753, 0.022836617215769402, -0.03399084629506016, 0.001635241771278783, 0.046738125303414764], [0.5864789596767149, -0.8090561977865707, 1.0, 0.8223179675663619, 0.8804401997029538, -0.6029062599833397, -0.009682294593152042, -0.039009484459021256, -0.007063278543195634, 0.030801782331143977, -0.000488142091102611, -0.03686570682219501], [0.699200223783264, -0.8057104056320177, 0.8223179675663619, 1.0, 0.6568514576494497, -0.7026611414118924, -0.002523918644784047, -0.049319686821809476, -0.0211483371679688, 0.034936474874969224, -0.00601226513133594, -0.0457386536334057], [0.6019766474674769, -0.790081913282385, 0.8804401997029538, 0.6568514576494497, 1.0, -0.6084017151916166, -0.006279269753822791, -0.04042802781785203, -0.0033769249096609606, 0.03182830285184063, -0.0028214144077873373, -0.03753630531740834], [-0.8817687610437533, 0.8326652736642096, -0.6029062599833397, -0.7026611414118924, -0.6084017151916166, 1.0, -0.0002195835402839357, 0.07364765684269757, 0.0265475050647806, -0.04528723420605819, -0.005898720145914536, 0.06139593119761282], [-0.0029551681292889578, 0.005399151429506038, -0.009682294593152042, -0.002523918644784047, -0.006279269753822791, -0.0002195835402839357, 1.0, -0.17712759869396025, -0.0026045808512225417, 0.0053233193093968475, 0.04924408640210399, -0.011258416423158784], [-0.07848327911493913, 0.0546136479568753, -0.039009484459021256, -0.049319686821809476, -0.04042802781785203, 0.07364765684269757, -0.17712759869396025, 1.0, 0.25319138769934835, -0.17532404296061976, -0.011113358115728665, 0.36684185169366607], [-0.01632554503368146, 0.022836617215769402, -0.007063278543195634, -0.0211483371679688, -0.0033769249096609606, 0.0265475050647806, -0.0026045808512225417, 0.25319138769934835, 1.0, 0.11084789240067813, 0.0055435119515555315, 0.2324564445188417], [0.055388296716424236, -0.03399084629506016, 0.030801782331143977, 0.034936474874969224, 0.03182830285184063, -0.04528723420605819, 0.0053233193093968475, -0.17532404296061976, 0.11084789240067813, 1.0, -0.005557757462550026, -0.8986398564467569], [-0.003143368363268889, 0.001635241771278783, -0.000488142091102611, -0.00601226513133594, -0.0028214144077873373, -0.005898720145914536, 0.04924408640210399, -0.011113358115728665, 0.0055435119515555315, -0.005557757462550026, 1.0, -0.07818740760503215], [-0.06594678528341263, 0.046738125303414764, -0.03686570682219501, -0.0457386536334057, -0.03753630531740834, 0.06139593119761282, -0.011258416423158784, 0.36684185169366607, 0.2324564445188417, -0.8986398564467569, -0.07818740760503215, 1.0]]}],\n",
       "                        {\"coloraxis\": {\"colorscale\": [[0.0, \"#0d0887\"], [0.1111111111111111, \"#46039f\"], [0.2222222222222222, \"#7201a8\"], [0.3333333333333333, \"#9c179e\"], [0.4444444444444444, \"#bd3786\"], [0.5555555555555556, \"#d8576b\"], [0.6666666666666666, \"#ed7953\"], [0.7777777777777778, \"#fb9f3a\"], [0.8888888888888888, \"#fdca26\"], [1.0, \"#f0f921\"]]}, \"margin\": {\"t\": 60}, \"template\": {\"data\": {\"bar\": [{\"error_x\": {\"color\": \"#2a3f5f\"}, \"error_y\": {\"color\": \"#2a3f5f\"}, \"marker\": {\"line\": {\"color\": \"#E5ECF6\", \"width\": 0.5}}, \"type\": \"bar\"}], \"barpolar\": [{\"marker\": {\"line\": {\"color\": \"#E5ECF6\", \"width\": 0.5}}, \"type\": \"barpolar\"}], \"carpet\": [{\"aaxis\": {\"endlinecolor\": \"#2a3f5f\", \"gridcolor\": \"white\", \"linecolor\": \"white\", \"minorgridcolor\": \"white\", \"startlinecolor\": \"#2a3f5f\"}, \"baxis\": {\"endlinecolor\": \"#2a3f5f\", \"gridcolor\": \"white\", \"linecolor\": \"white\", \"minorgridcolor\": \"white\", \"startlinecolor\": \"#2a3f5f\"}, \"type\": \"carpet\"}], \"choropleth\": [{\"colorbar\": {\"outlinewidth\": 0, \"ticks\": \"\"}, \"type\": \"choropleth\"}], \"contour\": [{\"colorbar\": {\"outlinewidth\": 0, \"ticks\": \"\"}, \"colorscale\": [[0.0, \"#0d0887\"], [0.1111111111111111, \"#46039f\"], [0.2222222222222222, \"#7201a8\"], [0.3333333333333333, \"#9c179e\"], [0.4444444444444444, \"#bd3786\"], [0.5555555555555556, \"#d8576b\"], [0.6666666666666666, \"#ed7953\"], [0.7777777777777778, \"#fb9f3a\"], [0.8888888888888888, \"#fdca26\"], [1.0, \"#f0f921\"]], \"type\": \"contour\"}], \"contourcarpet\": [{\"colorbar\": {\"outlinewidth\": 0, \"ticks\": \"\"}, \"type\": \"contourcarpet\"}], \"heatmap\": [{\"colorbar\": {\"outlinewidth\": 0, \"ticks\": \"\"}, \"colorscale\": [[0.0, \"#0d0887\"], [0.1111111111111111, \"#46039f\"], [0.2222222222222222, \"#7201a8\"], [0.3333333333333333, \"#9c179e\"], [0.4444444444444444, \"#bd3786\"], [0.5555555555555556, \"#d8576b\"], [0.6666666666666666, \"#ed7953\"], [0.7777777777777778, \"#fb9f3a\"], [0.8888888888888888, \"#fdca26\"], [1.0, \"#f0f921\"]], \"type\": \"heatmap\"}], \"heatmapgl\": [{\"colorbar\": {\"outlinewidth\": 0, \"ticks\": \"\"}, \"colorscale\": [[0.0, \"#0d0887\"], [0.1111111111111111, \"#46039f\"], [0.2222222222222222, \"#7201a8\"], [0.3333333333333333, \"#9c179e\"], [0.4444444444444444, \"#bd3786\"], [0.5555555555555556, \"#d8576b\"], [0.6666666666666666, \"#ed7953\"], [0.7777777777777778, \"#fb9f3a\"], [0.8888888888888888, \"#fdca26\"], [1.0, \"#f0f921\"]], \"type\": \"heatmapgl\"}], \"histogram\": [{\"marker\": {\"colorbar\": {\"outlinewidth\": 0, \"ticks\": \"\"}}, \"type\": \"histogram\"}], \"histogram2d\": [{\"colorbar\": {\"outlinewidth\": 0, \"ticks\": \"\"}, \"colorscale\": [[0.0, \"#0d0887\"], [0.1111111111111111, \"#46039f\"], [0.2222222222222222, \"#7201a8\"], [0.3333333333333333, \"#9c179e\"], [0.4444444444444444, \"#bd3786\"], [0.5555555555555556, \"#d8576b\"], [0.6666666666666666, \"#ed7953\"], [0.7777777777777778, \"#fb9f3a\"], [0.8888888888888888, \"#fdca26\"], [1.0, \"#f0f921\"]], \"type\": \"histogram2d\"}], \"histogram2dcontour\": [{\"colorbar\": {\"outlinewidth\": 0, \"ticks\": \"\"}, \"colorscale\": [[0.0, \"#0d0887\"], [0.1111111111111111, \"#46039f\"], [0.2222222222222222, \"#7201a8\"], [0.3333333333333333, \"#9c179e\"], [0.4444444444444444, \"#bd3786\"], [0.5555555555555556, \"#d8576b\"], [0.6666666666666666, \"#ed7953\"], [0.7777777777777778, \"#fb9f3a\"], [0.8888888888888888, \"#fdca26\"], [1.0, \"#f0f921\"]], \"type\": \"histogram2dcontour\"}], \"mesh3d\": [{\"colorbar\": {\"outlinewidth\": 0, \"ticks\": \"\"}, \"type\": \"mesh3d\"}], \"parcoords\": [{\"line\": {\"colorbar\": {\"outlinewidth\": 0, \"ticks\": \"\"}}, \"type\": \"parcoords\"}], \"pie\": [{\"automargin\": true, \"type\": \"pie\"}], \"scatter\": [{\"marker\": {\"colorbar\": {\"outlinewidth\": 0, \"ticks\": \"\"}}, \"type\": \"scatter\"}], \"scatter3d\": [{\"line\": {\"colorbar\": {\"outlinewidth\": 0, \"ticks\": \"\"}}, \"marker\": {\"colorbar\": {\"outlinewidth\": 0, \"ticks\": \"\"}}, \"type\": \"scatter3d\"}], \"scattercarpet\": [{\"marker\": {\"colorbar\": {\"outlinewidth\": 0, \"ticks\": \"\"}}, \"type\": \"scattercarpet\"}], \"scattergeo\": [{\"marker\": {\"colorbar\": {\"outlinewidth\": 0, \"ticks\": \"\"}}, \"type\": \"scattergeo\"}], \"scattergl\": [{\"marker\": {\"colorbar\": {\"outlinewidth\": 0, \"ticks\": \"\"}}, \"type\": \"scattergl\"}], \"scattermapbox\": [{\"marker\": {\"colorbar\": {\"outlinewidth\": 0, \"ticks\": \"\"}}, \"type\": \"scattermapbox\"}], \"scatterpolar\": [{\"marker\": {\"colorbar\": {\"outlinewidth\": 0, \"ticks\": \"\"}}, \"type\": \"scatterpolar\"}], \"scatterpolargl\": [{\"marker\": {\"colorbar\": {\"outlinewidth\": 0, \"ticks\": \"\"}}, \"type\": \"scatterpolargl\"}], \"scatterternary\": [{\"marker\": {\"colorbar\": {\"outlinewidth\": 0, \"ticks\": \"\"}}, \"type\": \"scatterternary\"}], \"surface\": [{\"colorbar\": {\"outlinewidth\": 0, \"ticks\": \"\"}, \"colorscale\": [[0.0, \"#0d0887\"], [0.1111111111111111, \"#46039f\"], [0.2222222222222222, \"#7201a8\"], [0.3333333333333333, \"#9c179e\"], [0.4444444444444444, \"#bd3786\"], [0.5555555555555556, \"#d8576b\"], [0.6666666666666666, \"#ed7953\"], [0.7777777777777778, \"#fb9f3a\"], [0.8888888888888888, \"#fdca26\"], [1.0, \"#f0f921\"]], \"type\": \"surface\"}], \"table\": [{\"cells\": {\"fill\": {\"color\": \"#EBF0F8\"}, \"line\": {\"color\": \"white\"}}, \"header\": {\"fill\": {\"color\": \"#C8D4E3\"}, \"line\": {\"color\": \"white\"}}, \"type\": \"table\"}]}, \"layout\": {\"annotationdefaults\": {\"arrowcolor\": \"#2a3f5f\", \"arrowhead\": 0, \"arrowwidth\": 1}, \"coloraxis\": {\"colorbar\": {\"outlinewidth\": 0, \"ticks\": \"\"}}, \"colorscale\": {\"diverging\": [[0, \"#8e0152\"], [0.1, \"#c51b7d\"], [0.2, \"#de77ae\"], [0.3, \"#f1b6da\"], [0.4, \"#fde0ef\"], [0.5, \"#f7f7f7\"], [0.6, \"#e6f5d0\"], [0.7, \"#b8e186\"], [0.8, \"#7fbc41\"], [0.9, \"#4d9221\"], [1, \"#276419\"]], \"sequential\": [[0.0, \"#0d0887\"], [0.1111111111111111, \"#46039f\"], [0.2222222222222222, \"#7201a8\"], [0.3333333333333333, \"#9c179e\"], [0.4444444444444444, \"#bd3786\"], [0.5555555555555556, \"#d8576b\"], [0.6666666666666666, \"#ed7953\"], [0.7777777777777778, \"#fb9f3a\"], [0.8888888888888888, \"#fdca26\"], [1.0, \"#f0f921\"]], \"sequentialminus\": [[0.0, \"#0d0887\"], [0.1111111111111111, \"#46039f\"], [0.2222222222222222, \"#7201a8\"], [0.3333333333333333, \"#9c179e\"], [0.4444444444444444, \"#bd3786\"], [0.5555555555555556, \"#d8576b\"], [0.6666666666666666, \"#ed7953\"], [0.7777777777777778, \"#fb9f3a\"], [0.8888888888888888, \"#fdca26\"], [1.0, \"#f0f921\"]]}, \"colorway\": [\"#636efa\", \"#EF553B\", \"#00cc96\", \"#ab63fa\", \"#FFA15A\", \"#19d3f3\", \"#FF6692\", \"#B6E880\", \"#FF97FF\", \"#FECB52\"], \"font\": {\"color\": \"#2a3f5f\"}, \"geo\": {\"bgcolor\": \"white\", \"lakecolor\": \"white\", \"landcolor\": \"#E5ECF6\", \"showlakes\": true, \"showland\": true, \"subunitcolor\": \"white\"}, \"hoverlabel\": {\"align\": \"left\"}, \"hovermode\": \"closest\", \"mapbox\": {\"style\": \"light\"}, \"paper_bgcolor\": \"white\", \"plot_bgcolor\": \"#E5ECF6\", \"polar\": {\"angularaxis\": {\"gridcolor\": \"white\", \"linecolor\": \"white\", \"ticks\": \"\"}, \"bgcolor\": \"#E5ECF6\", \"radialaxis\": {\"gridcolor\": \"white\", \"linecolor\": \"white\", \"ticks\": \"\"}}, \"scene\": {\"xaxis\": {\"backgroundcolor\": \"#E5ECF6\", \"gridcolor\": \"white\", \"gridwidth\": 2, \"linecolor\": \"white\", \"showbackground\": true, \"ticks\": \"\", \"zerolinecolor\": \"white\"}, \"yaxis\": {\"backgroundcolor\": \"#E5ECF6\", \"gridcolor\": \"white\", \"gridwidth\": 2, \"linecolor\": \"white\", \"showbackground\": true, \"ticks\": \"\", \"zerolinecolor\": \"white\"}, \"zaxis\": {\"backgroundcolor\": \"#E5ECF6\", \"gridcolor\": \"white\", \"gridwidth\": 2, \"linecolor\": \"white\", \"showbackground\": true, \"ticks\": \"\", \"zerolinecolor\": \"white\"}}, \"shapedefaults\": {\"line\": {\"color\": \"#2a3f5f\"}}, \"ternary\": {\"aaxis\": {\"gridcolor\": \"white\", \"linecolor\": \"white\", \"ticks\": \"\"}, \"baxis\": {\"gridcolor\": \"white\", \"linecolor\": \"white\", \"ticks\": \"\"}, \"bgcolor\": \"#E5ECF6\", \"caxis\": {\"gridcolor\": \"white\", \"linecolor\": \"white\", \"ticks\": \"\"}}, \"title\": {\"x\": 0.05}, \"xaxis\": {\"automargin\": true, \"gridcolor\": \"white\", \"linecolor\": \"white\", \"ticks\": \"\", \"title\": {\"standoff\": 15}, \"zerolinecolor\": \"white\", \"zerolinewidth\": 2}, \"yaxis\": {\"automargin\": true, \"gridcolor\": \"white\", \"linecolor\": \"white\", \"ticks\": \"\", \"title\": {\"standoff\": 15}, \"zerolinecolor\": \"white\", \"zerolinewidth\": 2}}}, \"xaxis\": {\"constrain\": \"domain\", \"scaleanchor\": \"y\"}, \"yaxis\": {\"autorange\": \"reversed\", \"constrain\": \"domain\"}},\n",
       "                        {\"responsive\": true}\n",
       "                    ).then(function(){\n",
       "                            \n",
       "var gd = document.getElementById('5d156226-1500-4be0-a68b-cd6537d0dab9');\n",
       "var x = new MutationObserver(function (mutations, observer) {{\n",
       "        var display = window.getComputedStyle(gd).display;\n",
       "        if (!display || display === 'none') {{\n",
       "            console.log([gd, 'removed!']);\n",
       "            Plotly.purge(gd);\n",
       "            observer.disconnect();\n",
       "        }}\n",
       "}});\n",
       "\n",
       "// Listen for the removal of the full notebook cells\n",
       "var notebookContainer = gd.closest('#notebook-container');\n",
       "if (notebookContainer) {{\n",
       "    x.observe(notebookContainer, {childList: true});\n",
       "}}\n",
       "\n",
       "// Listen for the clearing of the current output cell\n",
       "var outputEl = gd.closest('.output');\n",
       "if (outputEl) {{\n",
       "    x.observe(outputEl, {childList: true});\n",
       "}}\n",
       "\n",
       "                        })\n",
       "                };\n",
       "                });\n",
       "            </script>\n",
       "        </div>"
      ]
     },
     "metadata": {},
     "output_type": "display_data"
    }
   ],
   "source": [
    "# Make a heat map of correlations to guess which ones to keep\n",
    "corr_matrix = df.corr()\n",
    "fig = px.imshow(corr_matrix)\n",
    "fig.show()"
   ]
  },
  {
   "cell_type": "markdown",
   "metadata": {},
   "source": [
    "Examining pairs of correlated features, we should consider dropping 'policy_ratio','same_name','edit_distance','DurationDays' as these are correlated with other variables that are themselves better correlated with the target variable. We will run a lasso regulazation to confirm. "
   ]
  },
  {
   "cell_type": "code",
   "execution_count": 30,
   "metadata": {},
   "outputs": [],
   "source": [
    "# # Lasso L1 regression will drive coefficients to zero and select best correlated variables\n",
    "# # Use a stratified k fold cross validator to help with class imbalance\n",
    "# cv = StratifiedKFold(n_splits=5, shuffle=True, random_state=42)\n",
    "# lasso_alphas = np.linspace(0.01, 1, 11)\n",
    "# lasso = LassoCV(alphas=lasso_alphas, cv=cv, n_jobs=-1)\n",
    "# lasso.fit(X_train, Y_train)\n",
    "# print('alpha: %.2f' % lasso.alpha_)\n",
    "\n",
    "# #Explore the non-zero coefficients - what are the highest/most impactful to the model?\n",
    "# nonzero_coef = {}\n",
    "# for i,j in zip(feat_cols, lasso.coef_):\n",
    "#     if j!=0:\n",
    "#         nonzero_coef[i]=j\n",
    "        \n",
    "# # sort by coef value\n",
    "# nonzero_coef = dict(sorted(nonzero_coef.items(), key=lambda item: item[1],reverse=True))\n",
    "# nonzero_coef"
   ]
  },
  {
   "cell_type": "markdown",
   "metadata": {},
   "source": [
    "I ulimately decided to use a slightly larger set of features than Lasso suggested, because it made the resulting classifier predict the minority class better. If I had more time or had many more features (e.g. if we were encoding categorical features or image data) I would try other regulazation penalties, or a forward selection approach, or feeding in the random forest important features as that's another way to do feature selection. \n",
    "\n",
    "In the interest of time, I worked with a less complex approach of using linear correlations between variables and the target. Within pairs of variables that were correlated, I selected the one that was better correlated with the target variable. While this gave a more complex model and slightly higher metrics on the validation set, this model was able to produce a balance of 0 and 1 labels in the unseen test set that was more realistic and similar to the training set. This gave me more confidence that it will generalize better on unseen data. "
   ]
  },
  {
   "cell_type": "code",
   "execution_count": 31,
   "metadata": {},
   "outputs": [
    {
     "name": "stdout",
     "output_type": "stream",
     "text": [
      "Features: Index(['item_ratio', 'contained', 'ClaimMonth', 'ClaimYear', 'Active',\n",
      "       'EnrollMonth', 'EnrollYear'],\n",
      "      dtype='object')\n"
     ]
    }
   ],
   "source": [
    "# I tried with only the lasso selected features, but the model only predicted 0s\n",
    "# X_train = X_train_df[nonzero_coef.keys()].to_numpy()\n",
    "# X_val = X_val_df[nonzero_coef.keys()].to_numpy()\n",
    "\n",
    "# Instead, use the lasso to confirm which of paired variables to drop\n",
    "to_drop = ['policy_ratio','same_name','edit_distance','DurationDays']\n",
    "X_train_df.drop(columns=to_drop,inplace=True)\n",
    "X_val_df.drop(columns=to_drop,inplace=True)\n",
    "feat_cols = X_train_df.columns\n",
    "print('Features:',feat_cols)\n",
    "X_train = X_train_df.to_numpy()\n",
    "X_val = X_val_df.to_numpy()"
   ]
  },
  {
   "cell_type": "code",
   "execution_count": 32,
   "metadata": {},
   "outputs": [
    {
     "data": {
      "text/plain": [
       "((14400, 7), (3600, 7), (3600,))"
      ]
     },
     "execution_count": 32,
     "metadata": {},
     "output_type": "execute_result"
    }
   ],
   "source": [
    "X_train.shape, X_val.shape, Y_val.shape"
   ]
  },
  {
   "cell_type": "markdown",
   "metadata": {},
   "source": [
    "# Create baseline models\n",
    "Using default parameters, build 2 classifiers and compare performance\n",
    "* Logistic regression, simplest baseline classifier\n",
    "* Random forest classifer, easy to interpret and often performant, does bagging\n",
    "\n",
    "Performance: This is a class imblanced dataset, with accurate claim assignment being more likely than inaccurate assignment. So while I do calculate accuracy, it is important to consider recall and precision -- how accurately can we predict the minority label class and avoid misclassifying the minority label class. Without the ability to check with stakeholders on whether type 1 or type 2 errors are more costly, I will be using the F1 score (harmonic mean of precision and recall) as the deciding metric. "
   ]
  },
  {
   "cell_type": "code",
   "execution_count": 33,
   "metadata": {},
   "outputs": [],
   "source": [
    "def baseline(model,X_train,Y_train,X_val,Y_val):\n",
    "    # Fit an sklearn classifer (model) on training data and print metrics on test data\n",
    "    model.fit(X_train, Y_train)\n",
    "    y_pred = model.predict(X_val)\n",
    "\n",
    "    # Evaluate model performance on test set\n",
    "    accuracy = model.score(X_val, Y_val) # accuracy\n",
    "    # F1 score, precision, recall, weighting for label imbalance\n",
    "    precision, recall, f1, _ = precision_recall_fscore_support(Y_val, y_pred, average='weighted')\n",
    "    print('Accuracy: {:.3%}\\nF1: {:.3%}\\nPrecision: {:.3%}\\nRecall: {:.3%}'.format(accuracy,f1,precision,recall))\n",
    "\n",
    "    cm = confusion_matrix(Y_val, y_pred)\n",
    "    print('\\nConfusion matrix\\n',cm)"
   ]
  },
  {
   "cell_type": "code",
   "execution_count": 34,
   "metadata": {},
   "outputs": [
    {
     "name": "stdout",
     "output_type": "stream",
     "text": [
      "Accuracy: 96.389%\n",
      "F1: 96.516%\n",
      "Precision: 96.893%\n",
      "Recall: 96.389%\n",
      "\n",
      "Confusion matrix\n",
      " [[2951  116]\n",
      " [  14  519]]\n"
     ]
    }
   ],
   "source": [
    "# Build classifer using logistic regression, fit and predict test set\n",
    "logisticRegr = LogisticRegression(random_state = 42,solver='liblinear') #to get convergence\n",
    "baseline(logisticRegr, X_train,Y_train,X_val,Y_val)"
   ]
  },
  {
   "cell_type": "code",
   "execution_count": 35,
   "metadata": {},
   "outputs": [
    {
     "name": "stdout",
     "output_type": "stream",
     "text": [
      "Accuracy: 98.111%\n",
      "F1: 98.130%\n",
      "Precision: 98.167%\n",
      "Recall: 98.111%\n",
      "\n",
      "Confusion matrix\n",
      " [[3020   47]\n",
      " [  21  512]]\n"
     ]
    }
   ],
   "source": [
    "# Build classifer using random forest, fit and predict test set\n",
    "clf_rf = RandomForestClassifier(random_state = 42)\n",
    "baseline(clf_rf, X_train,Y_train,X_val,Y_val)"
   ]
  },
  {
   "cell_type": "markdown",
   "metadata": {},
   "source": [
    "The random forest had the best metrics, particularly the F1 score. "
   ]
  },
  {
   "cell_type": "markdown",
   "metadata": {},
   "source": [
    "# Tune RF Classifier with cross validation\n",
    "To get a more robust, reliable sense of the model performance, use cross validation. To get better performing parameters, use tuning; I use randomized search in the interest of time. Grid search, being greedier and slower, may get better parameters. For the random forest classifier, it is especially important to find a max-depth that is not overfitting. If I had more time, I would construct the training curves and look for where the training and validation curves began to diverge in performance and stop training at that point. "
   ]
  },
  {
   "cell_type": "code",
   "execution_count": 37,
   "metadata": {},
   "outputs": [
    {
     "name": "stdout",
     "output_type": "stream",
     "text": [
      "{'bootstrap': [True, False],\n",
      " 'max_depth': [10, 20, 30, 40, 50, 60, 70, 80, 90, 100, 110, None],\n",
      " 'max_features': ['auto', 'sqrt'],\n",
      " 'min_samples_leaf': [1, 2, 4],\n",
      " 'min_samples_split': [2, 5, 10],\n",
      " 'n_estimators': [10, 231, 452, 673, 894, 1115, 1336, 1557, 1778, 2000]}\n",
      "Fitting 3 folds for each of 10 candidates, totalling 30 fits\n"
     ]
    },
    {
     "name": "stderr",
     "output_type": "stream",
     "text": [
      "[Parallel(n_jobs=-1)]: Using backend LokyBackend with 12 concurrent workers.\n",
      "[Parallel(n_jobs=-1)]: Done  23 out of  30 | elapsed:   19.1s remaining:    5.8s\n",
      "[Parallel(n_jobs=-1)]: Done  30 out of  30 | elapsed:   25.1s finished\n"
     ]
    },
    {
     "name": "stdout",
     "output_type": "stream",
     "text": [
      "Accuracy: 98.222%\n",
      "F1: 98.237%\n",
      "Precision: 98.265%\n",
      "Recall: 98.222%\n",
      "\n",
      "Confusion matrix\n",
      " [[3024   43]\n",
      " [  21  512]]\n"
     ]
    }
   ],
   "source": [
    "# Tune the hyperparameters on the random forest\n",
    "\n",
    "# Number of trees in random forest\n",
    "n_estimators = [int(x) for x in np.linspace(start = 10, stop = 2000, num = 10)]\n",
    "# Number of features to consider at every split\n",
    "max_features = ['auto', 'sqrt']\n",
    "# Maximum number of levels in tree\n",
    "max_depth = [int(x) for x in np.linspace(10, 110, num = 11)]\n",
    "max_depth.append(None)\n",
    "# Minimum number of samples required to split a node\n",
    "min_samples_split = [2, 5, 10]\n",
    "# Minimum number of samples required at each leaf node\n",
    "min_samples_leaf = [1, 2, 4]\n",
    "# Method of selecting samples for training each tree\n",
    "bootstrap = [True, False]\n",
    "# Create the random grid\n",
    "random_grid = {'n_estimators': n_estimators,\n",
    "               'max_features': max_features,\n",
    "               'max_depth': max_depth,\n",
    "               'min_samples_split': min_samples_split,\n",
    "               'min_samples_leaf': min_samples_leaf,\n",
    "               'bootstrap': bootstrap}\n",
    "pprint(random_grid)\n",
    "\n",
    "clf_rf = RandomForestClassifier(random_state = 42)\n",
    "\n",
    "clf_tuned_rf = RandomizedSearchCV(estimator = clf_rf,\n",
    "                                  param_distributions = random_grid,\n",
    "                                  n_iter = 10,\n",
    "                                  cv = 3,\n",
    "                                  verbose=2,\n",
    "                                  random_state=42,\n",
    "                                  n_jobs = -1)\n",
    "# Fit the random search model\n",
    "clf_tuned_rf.fit(X_train, Y_train)\n",
    "y_pred = clf_tuned_rf.predict(X_val)\n",
    "\n",
    "# Evaluate model performance on test set\n",
    "accuracy = clf_tuned_rf.score(X_val, Y_val) # accuracy\n",
    "# F1 score, precision, recall, weighting for label imbalance\n",
    "precision, recall, f1, _ = precision_recall_fscore_support(Y_val, y_pred, average='weighted')\n",
    "print('Accuracy: {:.3%}\\nF1: {:.3%}\\nPrecision: {:.3%}\\nRecall: {:.3%}'.format(accuracy,f1,precision,recall))\n",
    "\n",
    "cm = confusion_matrix(Y_val, y_pred)\n",
    "print('\\nConfusion matrix\\n',cm)"
   ]
  },
  {
   "cell_type": "code",
   "execution_count": 38,
   "metadata": {},
   "outputs": [
    {
     "data": {
      "text/plain": [
       "{'n_estimators': 452,\n",
       " 'min_samples_split': 2,\n",
       " 'min_samples_leaf': 2,\n",
       " 'max_features': 'auto',\n",
       " 'max_depth': 60,\n",
       " 'bootstrap': False}"
      ]
     },
     "execution_count": 38,
     "metadata": {},
     "output_type": "execute_result"
    }
   ],
   "source": [
    "# Check out the best parameters. The max depth is high enough that I am a bit concerned about overfitting and will\n",
    "# be doing sanity checks on the predictions. \n",
    "clf_tuned_rf.best_params_"
   ]
  },
  {
   "cell_type": "code",
   "execution_count": 39,
   "metadata": {},
   "outputs": [
    {
     "data": {
      "text/plain": [
       "<AxesSubplot:>"
      ]
     },
     "execution_count": 39,
     "metadata": {},
     "output_type": "execute_result"
    },
    {
     "data": {
      "image/png": "[encoded data removed]",
      "text/plain": [
       "<Figure size 432x288 with 1 Axes>"
      ]
     },
     "metadata": {
      "needs_background": "light"
     },
     "output_type": "display_data"
    }
   ],
   "source": [
    "# Plot feature importances for best model\n",
    "best_model = clf_tuned_rf.best_estimator_\n",
    "feats = {} # a dict to hold feature_name: feature_importance\n",
    "for feature, importance in zip(feat_cols, best_model.feature_importances_):\n",
    "    feats[feature] = importance #add the name/value pair \n",
    "\n",
    "importances = pd.DataFrame.from_dict(feats, orient='index').rename(columns={0: 'Gini-importance'})\n",
    "importances.sort_values(by='Gini-importance').plot(kind='bar', rot=45)"
   ]
  },
  {
   "cell_type": "markdown",
   "metadata": {},
   "source": [
    "The most important features were contained and item_ratio, followed by minor contributions from month and year of enrollment and claims, and a tiny contribution from whether the policy was active. \n",
    "\n",
    "The two main features make sense intuitively. The most important information we have about these data is that the vet wrote down one name and the policy has another - the vet being the third party outsider who brings some extra information to what we have internally. Contained tells us that the policy and the vet record names have a significant portion that are an exact match - one of those names being fully contained within the other - which helps with nick names, abbreviated names, honorifics, and those kinds of cases. However, there is another big class of cases where the edit distance (and specifically, how many edits in relation to the name in the line item data) is important to help address misspellings, typos, errant punctuation, and those kinds of cases. Between these two features, we're able to capture most of the variability in the training set. "
   ]
  },
  {
   "cell_type": "markdown",
   "metadata": {},
   "source": [
    "# Final predictions on unseen data"
   ]
  },
  {
   "cell_type": "code",
   "execution_count": 40,
   "metadata": {},
   "outputs": [],
   "source": [
    "# Test set predictions\n",
    "X_unseen = df_test[feat_cols]\n",
    "#X_unseen = df_test[nonzero_coef.keys()]\n",
    "y_pred_unseen = best_model.predict(X_unseen)\n",
    "\n",
    "#combine predictions with original data and write to file\n",
    "claims_test = claims.loc[df_test.index]\n",
    "claims_test['WrongPetFlag_Pred'] = y_pred_unseen\n",
    "claims_test.to_csv('predicted_flags.csv')"
   ]
  },
  {
   "cell_type": "code",
   "execution_count": 41,
   "metadata": {},
   "outputs": [
    {
     "data": {
      "text/plain": [
       "((2000, 24), (2000,))"
      ]
     },
     "execution_count": 41,
     "metadata": {},
     "output_type": "execute_result"
    }
   ],
   "source": [
    "claims_test.shape, y_pred_unseen.shape"
   ]
  },
  {
   "cell_type": "markdown",
   "metadata": {},
   "source": [
    "## Sanity check the unseen data predictions\n",
    "We want to see:\n",
    "* A healthy mix of 0s and 1s\n",
    "* That mix should resemble the training set, more or less\n",
    "* Recognizable splits in the features based on the label and our important features\n",
    "\n",
    "I also skimmed the output predicted_flags.csv file to get a sense of how well the predictions did."
   ]
  },
  {
   "cell_type": "code",
   "execution_count": 42,
   "metadata": {},
   "outputs": [
    {
     "name": "stdout",
     "output_type": "stream",
     "text": [
      "[[0.     0.8285]\n",
      " [1.     0.1715]]\n"
     ]
    }
   ],
   "source": [
    "# How many predicted of each class in the unseen data? % of total\n",
    "unique, counts = np.unique(y_pred_unseen, return_counts=True)\n",
    "print(np.asarray((unique, counts/len(y_pred_unseen))).T)"
   ]
  },
  {
   "cell_type": "code",
   "execution_count": 43,
   "metadata": {},
   "outputs": [
    {
     "name": "stdout",
     "output_type": "stream",
     "text": [
      "[[0.         0.84583333]\n",
      " [1.         0.15416667]]\n"
     ]
    }
   ],
   "source": [
    "# How many predicted of each class in the test data? % of total\n",
    "unique, counts = np.unique(y_pred, return_counts=True)\n",
    "print(np.asarray((unique, counts/len(y_pred))).T)"
   ]
  },
  {
   "cell_type": "code",
   "execution_count": 44,
   "metadata": {},
   "outputs": [
    {
     "data": {
      "text/html": [
       "<div>\n",
       "<style scoped>\n",
       "    .dataframe tbody tr th:only-of-type {\n",
       "        vertical-align: middle;\n",
       "    }\n",
       "\n",
       "    .dataframe tbody tr th {\n",
       "        vertical-align: top;\n",
       "    }\n",
       "\n",
       "    .dataframe thead th {\n",
       "        text-align: right;\n",
       "    }\n",
       "</style>\n",
       "<table border=\"1\" class=\"dataframe\">\n",
       "  <thead>\n",
       "    <tr style=\"text-align: right;\">\n",
       "      <th>WrongPetFlag_Pred</th>\n",
       "      <th>0.0</th>\n",
       "      <th>1.0</th>\n",
       "    </tr>\n",
       "  </thead>\n",
       "  <tbody>\n",
       "    <tr>\n",
       "      <th>PolicyId</th>\n",
       "      <td>14560.612553</td>\n",
       "      <td>13164.174927</td>\n",
       "    </tr>\n",
       "    <tr>\n",
       "      <th>OwnerId</th>\n",
       "      <td>13389.006035</td>\n",
       "      <td>10664.956268</td>\n",
       "    </tr>\n",
       "    <tr>\n",
       "      <th>ClaimId</th>\n",
       "      <td>18322.488835</td>\n",
       "      <td>17777.218659</td>\n",
       "    </tr>\n",
       "    <tr>\n",
       "      <th>LineItemId</th>\n",
       "      <td>18999.468920</td>\n",
       "      <td>18999.650146</td>\n",
       "    </tr>\n",
       "    <tr>\n",
       "      <th>WrongPetFlag</th>\n",
       "      <td>NaN</td>\n",
       "      <td>NaN</td>\n",
       "    </tr>\n",
       "    <tr>\n",
       "      <th>item_ratio</th>\n",
       "      <td>0.097697</td>\n",
       "      <td>0.939044</td>\n",
       "    </tr>\n",
       "    <tr>\n",
       "      <th>contained</th>\n",
       "      <td>1.000000</td>\n",
       "      <td>0.000000</td>\n",
       "    </tr>\n",
       "    <tr>\n",
       "      <th>ClaimMonth</th>\n",
       "      <td>6.306578</td>\n",
       "      <td>6.393586</td>\n",
       "    </tr>\n",
       "    <tr>\n",
       "      <th>ClaimYear</th>\n",
       "      <td>2018.690404</td>\n",
       "      <td>2018.393586</td>\n",
       "    </tr>\n",
       "    <tr>\n",
       "      <th>Active</th>\n",
       "      <td>0.633675</td>\n",
       "      <td>0.594752</td>\n",
       "    </tr>\n",
       "    <tr>\n",
       "      <th>EnrollMonth</th>\n",
       "      <td>6.387447</td>\n",
       "      <td>6.408163</td>\n",
       "    </tr>\n",
       "    <tr>\n",
       "      <th>EnrollYear</th>\n",
       "      <td>2015.238986</td>\n",
       "      <td>2014.527697</td>\n",
       "    </tr>\n",
       "  </tbody>\n",
       "</table>\n",
       "</div>"
      ],
      "text/plain": [
       "WrongPetFlag_Pred           0.0           1.0\n",
       "PolicyId           14560.612553  13164.174927\n",
       "OwnerId            13389.006035  10664.956268\n",
       "ClaimId            18322.488835  17777.218659\n",
       "LineItemId         18999.468920  18999.650146\n",
       "WrongPetFlag                NaN           NaN\n",
       "item_ratio             0.097697      0.939044\n",
       "contained              1.000000      0.000000\n",
       "ClaimMonth             6.306578      6.393586\n",
       "ClaimYear           2018.690404   2018.393586\n",
       "Active                 0.633675      0.594752\n",
       "EnrollMonth            6.387447      6.408163\n",
       "EnrollYear          2015.238986   2014.527697"
      ]
     },
     "execution_count": 44,
     "metadata": {},
     "output_type": "execute_result"
    }
   ],
   "source": [
    "# What are the splits in the data based on predicted label?\n",
    "claims_test.groupby('WrongPetFlag_Pred').mean().T\n",
    "claims_test.columns\n",
    "x=claims_test.drop(columns=to_drop)\n",
    "x.groupby('WrongPetFlag_Pred').mean().T"
   ]
  },
  {
   "cell_type": "markdown",
   "metadata": {},
   "source": [
    "Contained was very , very strongly split between the labels. item_ratio, our 2nd most important feature, was also very well split though not quite a stark. The lesser important features, like month/year and active, had smaller splits, as expected.\n",
    "\n",
    "The classifer is generating a healthy mix of labels that is pretty similar to the mix in the training dataset, which is very nice sanity check that prompted me to do some interating as noted earlier. "
   ]
  },
  {
   "cell_type": "markdown",
   "metadata": {},
   "source": [
    "# Summary\n",
    "\n",
    "Given two data sets of veternary recorded line item data and Trupanion-internal policy information, I cleaned the data to handle nulls and outliers. Then I created several new features. \n",
    "* Most were related to several simple measures of similaritity between the recorded pet names, as this was the only information we had about them. If we had additional data, such as their gender, weight, age, health status, etc. those would be useful predictors also especially if we had internal and external records of those data. \n",
    "* I also added features for seasonality and active policies, as that was the fastest and simplest way to extract usable data from the various dates. Other options would be day of week, time of day, etc. but I did not expect WrongPetFlag to be seasonaly dependent (unlike, for instance, treatments where springtime means tick prevenative measures, etc) so I felt month/year was sufficient, and that intuition was correct. \n",
    "\n",
    "Then I trained 2 classifiers: logistic regression and random forest. In my experience, RF is usually very performant, with added benefits around explainability and robustness to scaling; but it is always worth trying the simplest option in logistic regression as a baseline. RF was the best in this situation, so I ran it through a hyperparameter tuning with cross validation. \n",
    "\n",
    "Metrics reflected the need to pay attention to the class imbalance in this data, though ultimately there were no tie-breakers.\n",
    "\n",
    "Then I predicted the unseen test data where the WrongPetFlag was missing. I joined the prediction onto the feature set with various IDs to make it easier to validated them. \n",
    "\n",
    "Finally, I sanity checked the predictions. I skimmed through the file, and felt the predictions were largely correct as our cross-validated metrics had suggested. I also confirmed that there was a reasonable mix of 0 and 1 labels in the predicted target variable compared to the training set. "
   ]
  },
  {
   "cell_type": "code",
   "execution_count": null,
   "metadata": {},
   "outputs": [],
   "source": []
  }
 ],
 "metadata": {
  "kernelspec": {
   "display_name": "Python 3",
   "language": "python",
   "name": "python3"
  },
  "language_info": {
   "codemirror_mode": {
    "name": "ipython",
    "version": 3
   },
   "file_extension": ".py",
   "mimetype": "text/x-python",
   "name": "python",
   "nbconvert_exporter": "python",
   "pygments_lexer": "ipython3",
   "version": "3.6.10"
  }
 },
 "nbformat": 4,
 "nbformat_minor": 4
}
